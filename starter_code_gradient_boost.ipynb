{
 "cells": [
  {
   "cell_type": "markdown",
   "metadata": {},
   "source": [
    "# Libraries"
   ]
  },
  {
   "cell_type": "code",
   "execution_count": 3,
   "metadata": {},
   "outputs": [],
   "source": [
    "import pickle\n",
    "import pandas as pd\n",
    "import seaborn as sns\n",
    "from os.path import exists\n",
    "import matplotlib.pyplot as plt\n",
    "from sklearn.neighbors import KNeighborsClassifier\n",
    "from sklearn.model_selection import train_test_split\n",
    "from sklearn.metrics import accuracy_score, confusion_matrix\n",
    "\n",
    "# importing libraries for VADER  \n",
    "from vaderSentiment.vaderSentiment import SentimentIntensityAnalyzer\n",
    "from xgboost import XGBClassifier\n",
    "from sklearn.model_selection import train_test_split, GridSearchCV, RandomizedSearchCV\n",
    "from sklearn.ensemble import GradientBoostingClassifier\n",
    "from sklearn.metrics import accuracy_score, confusion_matrix\n",
    "from wordcloud import WordCloud, STOPWORDS\n",
    "import missingno as msno\n",
    "from sklearn.preprocessing import OneHotEncoder\n",
    "from sklearn.linear_model import Ridge\n",
    "from scipy.sparse import hstack\n",
    "from sklearn.preprocessing import StandardScaler\n",
    "from joblib import Parallel, delayed\n",
    "import multiprocessing\n",
    "from sklearn.utils import resample\n",
    "import numpy as np\n",
    "from sklearn.metrics import classification_report\n",
    "from sklearn.feature_extraction.text import TfidfVectorizer"
   ]
  },
  {
   "cell_type": "markdown",
   "metadata": {},
   "source": [
    "# Loading the Files\n",
    "\n",
    "Download the csv files into the `data/` directory."
   ]
  },
  {
   "cell_type": "code",
   "execution_count": 4,
   "metadata": {},
   "outputs": [
    {
     "name": "stdout",
     "output_type": "stream",
     "text": [
      "train.csv shape is  (1697533, 9)\n",
      "test.csv shape is  (212192, 2)\n",
      "\n",
      "        Id   ProductId          UserId  HelpfulnessNumerator  \\\n",
      "0   914403  B0009W5KHM   AV6QDP8Q0ONK4                     2   \n",
      "1   354887  6303079709  A2I8RXJN80A2D2                     0   \n",
      "2  1407653  B004H0M2XC  A3FHV3RV8Z12E6                     0   \n",
      "3  1377458  B003ZJ9536  A12VLTA3ZHVPUY                     1   \n",
      "4   475323  630574453X  A13NM1PES9OXVN                     2   \n",
      "\n",
      "   HelpfulnessDenominator        Time  \\\n",
      "0                       2  1341014400   \n",
      "1                       0  1168819200   \n",
      "2                       0  1386201600   \n",
      "3                       1  1348704000   \n",
      "4                       3   970012800   \n",
      "\n",
      "                                         Summary  \\\n",
      "0                                  GOOD FUN FILM   \n",
      "1                                   Movie Review   \n",
      "2             When is it a good time to Consent?   \n",
      "3                                          TRUTH   \n",
      "4  Intelligent and bittersweet -- stays with you   \n",
      "\n",
      "                                                Text  Score  \n",
      "0  While most straight to DVD films are not worth...    5.0  \n",
      "1  I have wanted this one for sometime, also.  I ...    5.0  \n",
      "2  Actually this was a pretty darn good indie fil...    4.0  \n",
      "3  Episodes 37 to 72 of the series press on in a ...    5.0  \n",
      "4  I was really impressed with this movie, but wa...    3.0  \n",
      "\n",
      "        Id  Score\n",
      "0  1323432    NaN\n",
      "1  1137299    NaN\n",
      "2  1459366    NaN\n",
      "3   931601    NaN\n",
      "4  1311995    NaN\n",
      "\n",
      "                 Id  HelpfulnessNumerator  HelpfulnessDenominator  \\\n",
      "count  1.697533e+06          1.697533e+06            1.697533e+06   \n",
      "mean   8.487660e+05          3.569048e+00            5.301422e+00   \n",
      "std    4.900357e+05          1.727883e+01            2.024445e+01   \n",
      "min    0.000000e+00          0.000000e+00            0.000000e+00   \n",
      "25%    4.243830e+05          0.000000e+00            0.000000e+00   \n",
      "50%    8.487660e+05          1.000000e+00            1.000000e+00   \n",
      "75%    1.273149e+06          3.000000e+00            5.000000e+00   \n",
      "max    1.697532e+06          6.084000e+03            6.510000e+03   \n",
      "\n",
      "               Time         Score  \n",
      "count  1.697533e+06  1.485341e+06  \n",
      "mean   1.262422e+09  4.110517e+00  \n",
      "std    1.289277e+08  1.197651e+00  \n",
      "min    8.793792e+08  1.000000e+00  \n",
      "25%    1.164413e+09  4.000000e+00  \n",
      "50%    1.307491e+09  5.000000e+00  \n",
      "75%    1.373242e+09  5.000000e+00  \n",
      "max    1.406074e+09  5.000000e+00  \n"
     ]
    },
    {
     "data": {
      "image/png": "[encoded data removed]",
      "text/plain": [
       "<Figure size 640x480 with 1 Axes>"
      ]
     },
     "metadata": {},
     "output_type": "display_data"
    },
    {
     "name": "stdout",
     "output_type": "stream",
     "text": [
      "\n",
      "EVERYTHING IS PROPERLY SET UP! YOU ARE READY TO START\n"
     ]
    }
   ],
   "source": [
    "trainingSet = pd.read_csv(\"./data/train.csv\")\n",
    "testingSet = pd.read_csv(\"./data/test.csv\")\n",
    "\n",
    "print(\"train.csv shape is \", trainingSet.shape)\n",
    "print(\"test.csv shape is \", testingSet.shape)\n",
    "\n",
    "print()\n",
    "\n",
    "print(trainingSet.head())\n",
    "print()\n",
    "print(testingSet.head())\n",
    "\n",
    "print()\n",
    "\n",
    "print(trainingSet.describe())\n",
    "\n",
    "trainingSet['Score'].value_counts().plot(kind='bar', legend=True, alpha=.5)\n",
    "plt.show()\n",
    "\n",
    "print()\n",
    "print(\"EVERYTHING IS PROPERLY SET UP! YOU ARE READY TO START\")"
   ]
  },
  {
   "cell_type": "markdown",
   "metadata": {},
   "source": [
    "# Data Exploration"
   ]
  },
  {
   "cell_type": "markdown",
   "metadata": {},
   "source": [
    "### Exploring Helpfulness"
   ]
  },
  {
   "cell_type": "code",
   "execution_count": null,
   "metadata": {},
   "outputs": [],
   "source": [
    "# Check for outliers in 'HelpfulnessNumerator' and 'HelpfulnessDenominator'\n",
    "plt.figure(figsize=(10, 4))\n",
    "plt.subplot(1, 2, 1)\n",
    "trainingSet.boxplot(column='HelpfulnessNumerator')\n",
    "plt.title('HelpfulnessNumerator')\n",
    "plt.subplot(1, 2, 2)\n",
    "trainingSet.boxplot(column='HelpfulnessDenominator')\n",
    "plt.title('HelpfulnessDenominator')\n",
    "plt.show()\n",
    "\n",
    "HelpfulnessNumerator0 = trainingSet[trainingSet['HelpfulnessNumerator'] == 0]['HelpfulnessNumerator'].value_counts()\n",
    "HelpfulnessNumerator1 = trainingSet[trainingSet['HelpfulnessNumerator'] == 1]['HelpfulnessNumerator'].value_counts()\n",
    "HelpfulnessNumerator2 = trainingSet[trainingSet['HelpfulnessNumerator'] == 2]['HelpfulnessNumerator'].value_counts()\n",
    "HelpfulnessNumerator3 = trainingSet[trainingSet['HelpfulnessNumerator'] == 3]['HelpfulnessNumerator'].value_counts()\n",
    "HelpfulnessNumeratorMoreThan3 = trainingSet[trainingSet['HelpfulnessNumerator'] > 3]['HelpfulnessNumerator'].value_counts()\n",
    "\n",
    "labels = '0', '1', '2', '3', 'more than 3'\n",
    "sizes = [HelpfulnessNumerator0.values.item(), HelpfulnessNumerator1.values.item(), HelpfulnessNumerator2.values.item(), \n",
    "         HelpfulnessNumerator3.values.item(), HelpfulnessNumeratorMoreThan3.values.sum()]\n",
    "explode = (0, 0, 0, 0, 0)  # only \"explode\" the 2nd slice (i.e. 'Hogs')\n",
    "\n",
    "fig, ax = plt.subplots()\n",
    "ax.pie(sizes, explode=explode, labels=labels, autopct='%1.1f%%',\n",
    "        shadow=True, startangle=90)\n",
    "ax.axis('equal')  # Equal aspect ratio ensures that pie is drawn as a circle.\n",
    "plt.title(' Portions of Amount of Helpfulness Labels')\n",
    "plt.show()\n",
    "\n",
    "HelpfulnessDenominator0 = trainingSet[trainingSet['HelpfulnessDenominator'] == 0]['HelpfulnessDenominator'].value_counts()\n",
    "HelpfulnessDenominator1 = trainingSet[trainingSet['HelpfulnessDenominator'] == 1]['HelpfulnessDenominator'].value_counts()\n",
    "HelpfulnessDenominator2 = trainingSet[trainingSet['HelpfulnessDenominator'] == 2]['HelpfulnessDenominator'].value_counts()\n",
    "HelpfulnessDenominator3 = trainingSet[trainingSet['HelpfulnessDenominator'] == 3]['HelpfulnessDenominator'].value_counts()\n",
    "HelpfulnessDenominatorMoreThan3 = trainingSet[trainingSet['HelpfulnessDenominator'] > 3]['HelpfulnessDenominator'].value_counts()\n",
    "\n",
    "labels = '0', '1', '2', '3', 'more than 3'\n",
    "sizes = [HelpfulnessDenominator0.values.item(), HelpfulnessDenominator1.values.item(), HelpfulnessDenominator2.values.item(), \n",
    "         HelpfulnessDenominator3.values.item(), HelpfulnessDenominatorMoreThan3.values.sum()]\n",
    "explode = (0, 0, 0, 0, 0)  # only \"explode\" the 2nd slice (i.e. 'Hogs')\n",
    "\n",
    "fig, ax = plt.subplots()\n",
    "ax.pie(sizes, explode=explode, labels=labels, autopct='%1.1f%%',\n",
    "        shadow=True, startangle=90)\n",
    "ax.axis('equal')  # Equal aspect ratio ensures that pie is drawn as a circle.\n",
    "plt.title(' Portions of Amount of Comments Watched')\n",
    "plt.show()\n",
    "\n",
    "trainingSet['Helpfulness'] = trainingSet['HelpfulnessNumerator'] / trainingSet['HelpfulnessDenominator']\n",
    "trainingSet['Helpfulness'] = trainingSet['Helpfulness'].fillna(0)\n",
    "# plotting the distribution of Helpfulness\n",
    "plt.figure(figsize=(10, 4))\n",
    "trainingSet['Helpfulness'].plot.hist(bins=50, alpha=0.5, range=(0, 1))\n",
    "plt.title('Helpfulness Distribution (0 to 1)')\n",
    "plt.xlabel('Helpfulness')\n",
    "plt.ylabel('Frequency')\n",
    "plt.show()\n",
    "\n",
    "#checking skewness if HelfulnessNumerator\n",
    "trainingSet[['Score', 'Helpfulness']].groupby('Score').mean().plot(kind='bar', legend=True, alpha=.5)\n",
    "plt.title(\"Helpfulness per Score\")\n",
    "plt.show()"
   ]
  },
  {
   "cell_type": "markdown",
   "metadata": {},
   "source": [
    "**Helpfulness Numerator and Denominator Box Plots:**\n",
    "\n",
    "The majority of values are clustered near 0, but some reviews have very high values for these fields.\n",
    "\n",
    "**Helpfulness**\n",
    "\n",
    "The distribution of Helpfulness shows a very clear skew toward values close to 0 and 1, which makes sense given that most reviews are either not rated as helpful (0) or are rated highly helpful (1).\n",
    "More reviews are rated as not helpful.\n",
    "\n",
    "**Helpfulness per Score**\n",
    "\n",
    "Higher-rated reviews (4.0 and 5.0) are found more helpful by other users. \n",
    "There could be a potential correlation between positive reviews and perceived helpfulness."
   ]
  },
  {
   "cell_type": "markdown",
   "metadata": {},
   "source": [
    "### Exploring Class Imbalance"
   ]
  },
  {
   "cell_type": "code",
   "execution_count": 5,
   "metadata": {},
   "outputs": [
    {
     "name": "stdout",
     "output_type": "stream",
     "text": [
      "Class Frequency: Score\n",
      "1.0     91190\n",
      "2.0     89678\n",
      "3.0    176082\n",
      "4.0    335228\n",
      "5.0    793163\n",
      "Name: count, dtype: int64\n",
      "\n",
      "Class Imbalance Ratio: 0.11\n"
     ]
    }
   ],
   "source": [
    "# Calculate the class imbalance\n",
    "score_distribution = trainingSet['Score'].value_counts().sort_index()\n",
    "class_imbalance = score_distribution.min() / score_distribution.max()\n",
    "print(f\"Class Frequency: {score_distribution}\")\n",
    "print()\n",
    "print(f\"Class Imbalance Ratio: {class_imbalance:.2f}\")"
   ]
  },
  {
   "cell_type": "markdown",
   "metadata": {},
   "source": [
    "**Class Imbalance**\n",
    "\n",
    "Class imbalance is calculated as frequency of the least frequent class divided by the frequency of the most frequent class. \n",
    "In this analysis, the class imbalance ratio is 0.11, which indicates that the least frequent class appears 11% as often as the most frequent class.\n",
    "This indicated a moderately high class imbalance which we will have to account for.\n",
    "The class 2 is the least frequent"
   ]
  },
  {
   "cell_type": "code",
   "execution_count": 6,
   "metadata": {},
   "outputs": [],
   "source": [
    "# Separate each class\n",
    "class_1 = trainingSet[trainingSet['Score'] == 1]\n",
    "class_2 = trainingSet[trainingSet['Score'] == 2]\n",
    "class_3 = trainingSet[trainingSet['Score'] == 3]\n",
    "class_4 = trainingSet[trainingSet['Score'] == 4]\n",
    "class_5 = trainingSet[trainingSet['Score'] == 5]\n",
    "\n",
    "# Downsample class 5\n",
    "class_5_downsampled = resample(class_5, replace=False, n_samples=len(class_4), random_state=42)\n",
    "\n",
    "# Optional: Upsample classes with fewer samples\n",
    "class_1_upsampled = resample(class_1, replace=True, n_samples=len(class_4), random_state=42)\n",
    "class_2_upsampled = resample(class_2, replace=True, n_samples=len(class_4), random_state=42)\n",
    "class_3_upsampled = resample(class_3, replace=True, n_samples=len(class_4), random_state=42)\n",
    "\n",
    "# Combine all classes into a new balanced dataset\n",
    "trainingSet_balanced = pd.concat([class_1_upsampled, class_2_upsampled, class_3_upsampled, class_4, class_5_downsampled])"
   ]
  },
  {
   "cell_type": "code",
   "execution_count": 7,
   "metadata": {},
   "outputs": [
    {
     "name": "stdout",
     "output_type": "stream",
     "text": [
      "Class Frequency: Score\n",
      "1.0    335228\n",
      "2.0    335228\n",
      "3.0    335228\n",
      "4.0    335228\n",
      "5.0    335228\n",
      "Name: count, dtype: int64\n",
      "\n",
      "Class Imbalance Ratio: 1.00\n"
     ]
    }
   ],
   "source": [
    "# Calculate the class imbalance\n",
    "score_distribution = trainingSet_balanced['Score'].value_counts().sort_index()\n",
    "class_imbalance = score_distribution.min() / score_distribution.max()\n",
    "print(f\"Class Frequency: {score_distribution}\")\n",
    "print()\n",
    "print(f\"Class Imbalance Ratio: {class_imbalance:.2f}\")\n",
    "\n",
    "# perfecctly balanced dataset ? explore potential issues"
   ]
  },
  {
   "cell_type": "markdown",
   "metadata": {},
   "source": [
    "Above we balanced the classes completely as we can see by the class imbalance ratio os 1.00, meaning equal balance thorughout. Although this can sometimes lead to a model that doesn't accurately reflect real-world data where classes are often naturally imbalanced I decided to balance the model so it wouldn't become biased towards a class."
   ]
  },
  {
   "cell_type": "markdown",
   "metadata": {},
   "source": [
    "### Exploring Text and Summary"
   ]
  },
  {
   "cell_type": "markdown",
   "metadata": {},
   "source": [
    "In order to compare text and summary I will plot cloud images and see their similarity"
   ]
  },
  {
   "cell_type": "code",
   "execution_count": null,
   "metadata": {},
   "outputs": [],
   "source": [
    "fig = plt.figure(figsize=(14, 10))\n",
    "ax = fig.add_subplot(121)\n",
    "text = trainingSet.Summary.values\n",
    "wordcloud = WordCloud(\n",
    "    background_color = 'black',\n",
    "    stopwords = STOPWORDS).generate(str(text))\n",
    "plt.title('Summary Keywords')\n",
    "plt.imshow(wordcloud, interpolation = 'bilinear')\n",
    "plt.axis('off')\n",
    "plt.tight_layout(pad=0)\n",
    "\n",
    "ax = fig.add_subplot(122)\n",
    "text = trainingSet.Text.values\n",
    "wordcloud = WordCloud(\n",
    "    background_color = 'white',\n",
    "    stopwords = STOPWORDS).generate(str(text))\n",
    "plt.title('Text Keywords')\n",
    "plt.imshow(wordcloud, interpolation = 'bilinear')\n",
    "plt.axis('off')\n",
    "plt.tight_layout(pad=0)\n",
    "plt.show()"
   ]
  },
  {
   "cell_type": "markdown",
   "metadata": {},
   "source": [
    "### Missing Values"
   ]
  },
  {
   "cell_type": "markdown",
   "metadata": {},
   "source": [
    "Checking to see where and how many missing values exist"
   ]
  },
  {
   "cell_type": "code",
   "execution_count": null,
   "metadata": {},
   "outputs": [],
   "source": [
    "msno.matrix(trainingSet) "
   ]
  },
  {
   "cell_type": "markdown",
   "metadata": {},
   "source": [
    "As we can see the only missing values come from score, and there are not many."
   ]
  },
  {
   "cell_type": "code",
   "execution_count": null,
   "metadata": {},
   "outputs": [],
   "source": [
    "msno.heatmap(trainingSet)"
   ]
  },
  {
   "cell_type": "markdown",
   "metadata": {},
   "source": [
    "The heatmap displays correlations between missing values across columns. A strong color (closer to -1 or 1) would indicate a strong correlation in missing data patterns between columns, meaning if one column has missing data, the other is likely to as well.\n",
    "\n",
    "\n",
    "In this case, the mostly neutral, light-colored heatmap suggests minimal correlation in missingness across columns, with little overlap in missing data patterns. This indicates that missing data in one column does not predictably relate to missing data in another column."
   ]
  },
  {
   "cell_type": "markdown",
   "metadata": {},
   "source": [
    "The dataset is mostly complete, with a minor number of missing values concentrated in the Score column. Additionally, missing data across columns is uncorrelated, meaning the absence of data in one feature does not imply missing data in another."
   ]
  },
  {
   "cell_type": "markdown",
   "metadata": {},
   "source": [
    "# Vader Analysis"
   ]
  },
  {
   "cell_type": "markdown",
   "metadata": {},
   "source": [
    "Playing around with Vader Analysis vs TextBlob and seeing which one to use"
   ]
  },
  {
   "cell_type": "code",
   "execution_count": null,
   "metadata": {},
   "outputs": [],
   "source": [
    "analyzer_trial = SentimentIntensityAnalyzer()\n",
    "\n",
    "text = \"While most straight to DVD films are not worth watching, this one is the exception.Kim Basinger plays a Pink Lady (Mary Kay) cosmetic sales lady who had met Elvis as a child. During her recent travels Elvis impersonators around her die from freak accidents. She falls in love with John Corbett (love at first sight) who she believes is also an Elvis impersonator because he carries around an Elvis suit which belongs to his soon to be ex-wife Denise Richards. The acting is pure ham, such as in Mars Attacks. The accents are overly done. The FBI agents hunting the pair are comical. The concept is original. The cast is full of stars (Tom Hanks, Sean Astin, Angie Dickinson, Billy Ray Cyrus, Pat Morita). The dialogue is so-so, perhaps the weakest aspect of the movie. The Elvis impersonators were so bad, you wanted them to die.Thank you. Thank you very much.\"\n",
    "summary = \"GOOD FUN FILM\"\n",
    "\n",
    "# print(trainingSet['Text'][0])\n",
    "# print(trainingSet['Summary'][0])\n",
    "\n",
    "# lets make text a little bigger and see how VADER would work\n",
    "# first 100 rows\n",
    "# for i in range(100):\n",
    "#     print(analyzer.polarity_scores(trainingSet['Text'][i]))\n",
    "#     print(analyzer.polarity_scores(trainingSet['Summary'][i]))\n",
    "# 3.2 seconds for 100 rows\n",
    "\n",
    "# now lets try to do it for the whole dataset\n",
    "\n",
    "# sentiment_results = []\n",
    "# rows_done = 0\n",
    "# try: \n",
    "#     for i in range(len(trainingSet)):\n",
    "#         # found out error regardin float values which come from NaN\n",
    "#         # Ensure text is a string and handle non-strings (like NaN or float)\n",
    "#         if not isinstance(trainingSet['Text'][i], str):\n",
    "#             trainingSet.loc['Text'][i] = ''\n",
    "\n",
    "#         sentiment = analyzer.polarity_scores(trainingSet['Text'][i])\n",
    "#         sentiment_results.append(sentiment)\n",
    "#         rows_done += 1\n",
    "\n",
    "# # after five minutes \n",
    "# except KeyboardInterrupt:\n",
    "#     # When you stop the code with Ctrl+C, catch the interruption and print the progress\n",
    "#     print(f\"Stopped after analyzing {rows_done} rows.\")\n",
    "#     print(f\"Partial results (rows processed): {len(sentiment_results)}\")\n",
    "#     print(sentiment_results[:10])\n",
    "\n",
    "print(analyzer_trial.polarity_scores(''))\n",
    "# neutral score"
   ]
  },
  {
   "cell_type": "markdown",
   "metadata": {},
   "source": [
    "# Adding Features"
   ]
  },
  {
   "cell_type": "code",
   "execution_count": 8,
   "metadata": {},
   "outputs": [],
   "source": [
    "# Initialize VADER sentiment analyzer\n",
    "analyzer = SentimentIntensityAnalyzer()\n",
    "\n",
    "# Function to get VADER compound score for a given text\n",
    "def get_vader_sentiment(text, idx):\n",
    "    if not isinstance(text, str):\n",
    "        text = ''\n",
    "    if idx % 100000 == 0:  # Print progress every 100,000 rows\n",
    "        print(f\"Processing row {idx}\")\n",
    "    return analyzer.polarity_scores(text)['compound']\n",
    "\n",
    "def parallel_vader_sentiment(df, text_column):\n",
    "    num_cores = multiprocessing.cpu_count()\n",
    "\n",
    "    sentiment_scores = Parallel(n_jobs=num_cores)(\n",
    "        delayed(get_vader_sentiment)(text, i) for i, text in enumerate(df[text_column])\n",
    "    )\n",
    "    return sentiment_scores\n",
    "\n",
    "def add_features_to(df):\n",
    "    # This is where you can do all your feature extraction\n",
    "\n",
    "    # Calculate 'Helpfulness' feature\n",
    "    df['Helpfulness'] = df['HelpfulnessNumerator'] / df['HelpfulnessDenominator']\n",
    "    df['Helpfulness'] = df['Helpfulness'].fillna(0)\n",
    "\n",
    "    # Drop HelpfulnessNumerator and HelpfulnessDenominator\n",
    "    df = df.drop(columns=['HelpfulnessNumerator', 'HelpfulnessDenominator'])\n",
    "\n",
    "    # Convert Time to datetime\n",
    "    df['Time'] = pd.to_datetime(df['Time'], unit='s')\n",
    "    # ridge does not work with datetime need to convert to int\n",
    "    df['Year'] = df['Time'].dt.year\n",
    "    df['Month'] = df['Time'].dt.month\n",
    "    df['Day'] = df['Time'].dt.day\n",
    "    df['DayOfWeek'] = df['Time'].dt.dayofweek\n",
    "    df.drop(columns=['Time'], inplace=True)\n",
    "\n",
    "    # impute missing values with empty strings\n",
    "    df['Text'] = df['Text'].fillna('').astype(str)\n",
    "    df['Summary'] = df['Summary'].fillna('').astype(str)\n",
    "    # Convert any non-string entries in 'Text' column to strings\n",
    "\n",
    "    df['ReviewLength'] = df.apply(lambda row : len(row['Text'].split()) if row['Text'] else 0, axis = 1)\n",
    "\n",
    "    # Extract the sentiment from the summary and text    \n",
    "    df['Text_Sentiment'] = parallel_vader_sentiment(df, 'Text')\n",
    "    # trainingSet['Summary_Sentiment'] = parallel_vader_sentiment(trainingSet, 'Summary')\n",
    "    # created a lot of noise\n",
    "\n",
    "    print(df[['Text_Sentiment']].head())\n",
    "    \n",
    "    return df\n",
    "\n",
    "# Load the feature extracted files if they've already been generated\n",
    "if exists('./data/X_train.csv'):\n",
    "    X_train = pd.read_csv(\"./data/X_train.csv\")\n",
    "if exists('./data/X_submission.csv'):\n",
    "    X_submission = pd.read_csv(\"./data/X_submission.csv\")\n",
    "else:\n",
    "    # Process the DataFrame in chunks\n",
    "    train = add_features_to(trainingSet)\n",
    "\n",
    "    # Merge on Id so that the submission set can have feature columns as well\n",
    "    X_submission = pd.merge(train, testingSet, left_on='Id', right_on='Id')\n",
    "    X_submission = X_submission.drop(columns=['Score_x'])\n",
    "    X_submission = X_submission.rename(columns={'Score_y': 'Score'})\n",
    "\n",
    "    # The training set is where the score is not null\n",
    "    X_train = train[train['Score'].notnull()]\n",
    "\n",
    "    X_submission.to_csv(\"./data/X_submission.csv\", index=False)\n",
    "    X_train.to_csv(\"./data/X_train.csv\", index=False)"
   ]
  },
  {
   "cell_type": "markdown",
   "metadata": {},
   "source": [
    "Vader is taking a long time, the following code is simply me trying to determine exactly where the bottleneck is/was."
   ]
  },
  {
   "cell_type": "code",
   "execution_count": null,
   "metadata": {},
   "outputs": [],
   "source": [
    "import cProfile\n",
    "\n",
    "# Profile the function to see where it is slow\n",
    "cProfile.run('add_features_to(trainingSet)')"
   ]
  },
  {
   "cell_type": "markdown",
   "metadata": {},
   "source": [
    "From the output I got i'm seeing that VADER that a long time computationally since it goes row by row processing.\n",
    "There seems to be a bottleneck in the add_features_to() function — 192.257 seconds. The lambda functions responsible for sentiment analysis (<lambda>) and the chunk processing (process_chunk) are also contributing heavily to the runtime.\n",
    "\n",
    "FIXED with parallel computing (below)"
   ]
  },
  {
   "cell_type": "markdown",
   "metadata": {},
   "source": [
    "# Sample + Split into training and testing set"
   ]
  },
  {
   "cell_type": "code",
   "execution_count": 9,
   "metadata": {},
   "outputs": [],
   "source": [
    "# Split training set into training and testing set\n",
    "X_train, X_test, Y_train, Y_test = train_test_split(\n",
    "    X_train.drop(columns=['Score']),\n",
    "    X_train['Score'],\n",
    "    test_size=1/4.0,\n",
    "    random_state=42\n",
    ")"
   ]
  },
  {
   "cell_type": "markdown",
   "metadata": {},
   "source": [
    "debugging: was getting an error that Text_Sentiment was inexistent, so added the following code to check columns as I go"
   ]
  },
  {
   "cell_type": "code",
   "execution_count": 10,
   "metadata": {},
   "outputs": [
    {
     "name": "stdout",
     "output_type": "stream",
     "text": [
      "Columns in X_train: Index(['Id', 'ProductId', 'UserId', 'Summary', 'Text', 'Helpfulness', 'Year',\n",
      "       'Month', 'Day', 'DayOfWeek', 'ReviewLength', 'Text_Sentiment'],\n",
      "      dtype='object')\n",
      "Columns in X_submission: Index(['Id', 'ProductId', 'UserId', 'Summary', 'Text', 'Helpfulness', 'Year',\n",
      "       'Month', 'Day', 'DayOfWeek', 'ReviewLength', 'Text_Sentiment', 'Score'],\n",
      "      dtype='object')\n"
     ]
    }
   ],
   "source": [
    "print(\"Columns in X_train:\", X_train.columns)\n",
    "print(\"Columns in X_submission:\", X_submission.columns)"
   ]
  },
  {
   "cell_type": "markdown",
   "metadata": {},
   "source": [
    "# Feature Selection"
   ]
  },
  {
   "cell_type": "code",
   "execution_count": 11,
   "metadata": {},
   "outputs": [],
   "source": [
    "features = ['Id', 'Text_Sentiment', 'Helpfulness', 'DayOfWeek', 'ReviewLength']\n",
    "\n",
    "# X_train_select = X_train[features]\n",
    "# X_test_select = X_test[features]\n",
    "# X_submission_select = X_submission[features]\n",
    "\n",
    "# Define TF-IDF Vectorizer\n",
    "tfidf_vectorizer = TfidfVectorizer(max_features=1000, stop_words='english')\n",
    "# reducing the number of features to 500 to reduce computational cost\n",
    "\n",
    "# Fit TF-IDF on the training set text and transform both train and test\n",
    "X_train_tfidf = tfidf_vectorizer.fit_transform(X_train['Text'].fillna(''))\n",
    "X_test_tfidf = tfidf_vectorizer.transform(X_test['Text'].fillna(''))\n",
    "\n",
    "# Select other feature columns\n",
    "features = ['Id', 'Text_Sentiment', 'Helpfulness', 'DayOfWeek', 'ReviewLength']\n",
    "X_train_features = X_train[features]\n",
    "X_test_features = X_test[features]\n",
    "X_submission_features = X_submission[features]\n",
    "\n",
    "# Combine TF-IDF features with the selected features\n",
    "X_train_select = hstack([X_train_tfidf, X_train_features.values])\n",
    "X_test_select = hstack([X_test_tfidf, X_test_features.values])\n",
    "X_submission_select = hstack([tfidf_vectorizer.transform(X_submission['Text'].fillna('')), X_submission_features.values])"
   ]
  },
  {
   "cell_type": "markdown",
   "metadata": {},
   "source": [
    "# Model Creation"
   ]
  },
  {
   "cell_type": "code",
   "execution_count": 12,
   "metadata": {},
   "outputs": [
    {
     "name": "stdout",
     "output_type": "stream",
     "text": [
      "Starting\n",
      "dense\n",
      "Shape of X_train_dense: (1114005, 1005)\n",
      "x_train_df = pd\n",
      "Y_train = reset\n",
      "x_train_small\n",
      "y_train_small\n",
      "fitting\n",
      "Fitting 2 folds for each of 10 candidates, totalling 20 fits\n",
      "[CV 1/2] END learning_rate=0.01, max_depth=3, min_samples_split=5, n_estimators=50, subsample=0.6;, score=0.532 total time= 1.2min\n",
      "[CV 2/2] END learning_rate=0.01, max_depth=3, min_samples_split=5, n_estimators=50, subsample=0.6;, score=0.532 total time= 1.3min\n",
      "[CV 1/2] END learning_rate=0.07333333333333333, max_depth=4, min_samples_split=2, n_estimators=50, subsample=0.6;, score=0.532 total time= 1.7min\n",
      "[CV 2/2] END learning_rate=0.07333333333333333, max_depth=4, min_samples_split=2, n_estimators=50, subsample=0.6;, score=0.531 total time= 1.7min\n",
      "[CV 1/2] END learning_rate=0.1366666666666667, max_depth=3, min_samples_split=10, n_estimators=50, subsample=0.6;, score=0.530 total time= 1.3min\n",
      "[CV 2/2] END learning_rate=0.1366666666666667, max_depth=3, min_samples_split=10, n_estimators=50, subsample=0.6;, score=0.530 total time= 1.3min\n",
      "[CV 2/2] END learning_rate=0.07333333333333333, max_depth=4, min_samples_split=10, n_estimators=50, subsample=0.6;, score=0.532 total time= 1.7min\n",
      "[CV 1/2] END learning_rate=0.07333333333333333, max_depth=4, min_samples_split=10, n_estimators=50, subsample=0.6;, score=0.532 total time= 1.7min\n",
      "[CV 2/2] END learning_rate=0.07333333333333333, max_depth=5, min_samples_split=2, n_estimators=50, subsample=1.0;, score=0.530 total time= 3.5min\n",
      "[CV 1/2] END learning_rate=0.07333333333333333, max_depth=5, min_samples_split=2, n_estimators=50, subsample=1.0;, score=0.531 total time= 3.5min\n",
      "[CV 2/2] END learning_rate=0.07333333333333333, max_depth=4, min_samples_split=10, n_estimators=200, subsample=0.6;, score=0.526 total time= 6.8min\n",
      "[CV 1/2] END learning_rate=0.07333333333333333, max_depth=4, min_samples_split=10, n_estimators=200, subsample=0.6;, score=0.526 total time= 6.9min\n",
      "[CV 2/2] END learning_rate=0.1366666666666667, max_depth=5, min_samples_split=2, n_estimators=100, subsample=0.6;, score=0.513 total time= 4.4min\n",
      "[CV 1/2] END learning_rate=0.1366666666666667, max_depth=5, min_samples_split=2, n_estimators=100, subsample=0.6;, score=0.515 total time= 4.4min\n",
      "[CV 1/2] END learning_rate=0.2, max_depth=3, min_samples_split=10, n_estimators=100, subsample=1.0;, score=0.520 total time= 4.2min\n",
      "[CV 2/2] END learning_rate=0.2, max_depth=3, min_samples_split=10, n_estimators=100, subsample=1.0;, score=0.519 total time= 4.2min\n",
      "[CV 1/2] END learning_rate=0.07333333333333333, max_depth=5, min_samples_split=5, n_estimators=50, subsample=0.6;, score=0.531 total time=10.7min\n",
      "[CV 2/2] END learning_rate=0.07333333333333333, max_depth=5, min_samples_split=5, n_estimators=50, subsample=0.6;, score=0.531 total time=10.7min\n",
      "[CV 2/2] END learning_rate=0.1366666666666667, max_depth=4, min_samples_split=2, n_estimators=200, subsample=0.8;, score=0.511 total time=22.6min\n",
      "[CV 1/2] END learning_rate=0.1366666666666667, max_depth=4, min_samples_split=2, n_estimators=200, subsample=0.8;, score=0.512 total time=24.5min\n",
      "Finished RandomizedSearchCV fitting.\n",
      "best model\n",
      "Best Parameters: {'subsample': 0.6, 'n_estimators': 50, 'min_samples_split': 5, 'max_depth': 3, 'learning_rate': np.float64(0.01)}\n",
      "Predictions made.\n"
     ]
    }
   ],
   "source": [
    "from scipy.sparse import csr_matrix\n",
    "\n",
    "print(\"Starting\")\n",
    "# Ensure TF-IDF output is in dense format\n",
    "print(\"dense\")\n",
    "X_train_dense = csr_matrix(X_train_select).todense()\n",
    "\n",
    "print(\"Shape of X_train_dense:\", X_train_dense.shape)\n",
    "\n",
    "# X_train_df = pd.DataFrame(X_train_dense)\n",
    "\n",
    "# # Now sample 5% of the data\n",
    "# X_train_small = X_train_df.sample(frac=0.05, random_state=42)\n",
    "# Y_train_small = Y_train.loc[X_train_small.index]\n",
    "\n",
    "# Convert the sparse matrix to a dense DataFrame and reset indices\n",
    "print(\"x_train_df = pd\")\n",
    "X_train_df = pd.DataFrame(X_train_dense).reset_index(drop=True)\n",
    "print(\"Y_train = reset\")\n",
    "Y_train = Y_train.reset_index(drop=True)  # Ensure Y_train indices are in sequence\n",
    "\n",
    "# Sample 5% of the data and use positional indexing\n",
    "print(\"x_train_small\")\n",
    "X_train_small = X_train_df.sample(frac=0.05, random_state=42).reset_index(drop=True)\n",
    "print(\"y_train_small\")\n",
    "Y_train_small = Y_train.iloc[X_train_small.index]\n",
    "\n",
    "# Define parameter distributions\n",
    "param_distributions = {\n",
    "    'n_estimators': [50, 100, 200],        # Try different values for the number of trees\n",
    "    'learning_rate': np.linspace(0.01, 0.2, 4), # Range for learning rates (4 values between 0.01 and 0.2)\n",
    "    'max_depth': [3, 4, 5],               # Different max depth values\n",
    "    'subsample': [0.6, 0.8, 1.0],               # Include subsample parameter to control overfitting\n",
    "    'min_samples_split': [2, 5, 10]             # Minimum number of samples required to split a node\n",
    "}\n",
    "\n",
    "# Initialize RandomizedSearchCV with GradientBoostingClassifier\n",
    "random_search = RandomizedSearchCV(\n",
    "    estimator=GradientBoostingClassifier(random_state=42),\n",
    "    param_distributions=param_distributions,\n",
    "    n_iter=10,                        # Number of parameter settings to sample\n",
    "    scoring='accuracy',                # Scoring metric for evaluation\n",
    "    cv=2,                              # 3-fold cross-validation\n",
    "    n_jobs=-1,                         # Use all available cores\n",
    "    verbose=3,                         # Print progress\n",
    "    random_state=42                    # Set random state for reproducibility\n",
    ")\n",
    "\n",
    "# Select a smaller subset to reduce runtime\n",
    "# X_train_small = X_train_select.sample(frac=0.1, random_state=42)  # 10% of the data\n",
    "# Y_train_small = Y_train.loc[X_train_small.index]\n",
    "\n",
    "# Get a random subset of indices\n",
    "# subset_indices = np.random.choice(X_train_select.shape[0], size=int(0.1 * X_train_select.shape[0]), replace=False)\n",
    "\n",
    "# # Select the subset using the indices\n",
    "# X_train_small = X_train_select[subset_indices]\n",
    "# Y_train_small = Y_train.iloc[subset_indices]\n",
    "\n",
    "# error with the above code 'coo_matrix' object is not subscriptable\n",
    "# Convert X_train_select to a dense format\n",
    "# X_train_dense = X_train_select.toarray()\n",
    "\n",
    "# Get a random subset of indices\n",
    "# subset_indices = np.random.choice(X_train_dense.shape[0], size=int(0.05 * X_train_dense.shape[0]), replace=False)\n",
    "\n",
    "# # Select the subset using the indices\n",
    "# X_train_small = X_train_dense[subset_indices]\n",
    "# Y_train_small = Y_train.iloc[subset_indices]\n",
    "\n",
    "# the above code was taking way too long bc of the dense\n",
    "\n",
    "# Fit RandomizedSearchCV\n",
    "print(\"fitting\")\n",
    "random_search.fit(X_train_small, Y_train_small)\n",
    "print(\"Finished RandomizedSearchCV fitting.\")\n",
    "\n",
    "# Retrieve the best model and parameters\n",
    "print(\"best model\")\n",
    "best_model = random_search.best_estimator_\n",
    "print(\"Best Parameters:\", random_search.best_params_)\n",
    "\n",
    "# Use the best model to make predictions\n",
    "Y_test_predictions = best_model.predict(X_test_select)\n",
    "print(\"Predictions made.\")"
   ]
  },
  {
   "cell_type": "markdown",
   "metadata": {},
   "source": [
    "debugging:"
   ]
  },
  {
   "cell_type": "code",
   "execution_count": 8,
   "metadata": {},
   "outputs": [
    {
     "name": "stdout",
     "output_type": "stream",
     "text": [
      "X_train_select shape: (1114005, 1005)\n",
      "Y_train shape: (1114005,)\n",
      "X_train_small shape: (111400, 1005)\n",
      "Y_train_small shape: (111400,)\n"
     ]
    }
   ],
   "source": [
    "print(\"X_train_select shape:\", X_train_select.shape)\n",
    "print(\"Y_train shape:\", Y_train.shape)\n",
    "print(\"X_train_small shape:\", X_train_small.shape)\n",
    "print(\"Y_train_small shape:\", Y_train_small.shape)"
   ]
  },
  {
   "cell_type": "markdown",
   "metadata": {},
   "source": [
    "best parameters found from above are\n",
    "\n",
    "        subsample: 0.6\n",
    "\n",
    "        n_estimators: 50\n",
    "\n",
    "        min_samples_split: 5\n",
    "\n",
    "        max_depth: 3\n",
    "\n",
    "        learning_rate: 0.01\n",
    "\n",
    "based on cross-validated accuracy scores for each combination tested.\n",
    "These have been changing as I updated the model"
   ]
  },
  {
   "cell_type": "code",
   "execution_count": 16,
   "metadata": {},
   "outputs": [
    {
     "name": "stdout",
     "output_type": "stream",
     "text": [
      "Best Parameters: 0.01 3 50\n"
     ]
    },
    {
     "ename": "KeyboardInterrupt",
     "evalue": "",
     "output_type": "error",
     "traceback": [
      "\u001b[0;31m---------------------------------------------------------------------------\u001b[0m",
      "\u001b[0;31mKeyboardInterrupt\u001b[0m                         Traceback (most recent call last)",
      "Cell \u001b[0;32mIn[16], line 13\u001b[0m\n\u001b[1;32m      3\u001b[0m final_model \u001b[38;5;241m=\u001b[39m GradientBoostingClassifier(\n\u001b[1;32m      4\u001b[0m     n_estimators\u001b[38;5;241m=\u001b[39m\u001b[38;5;241m200\u001b[39m,\n\u001b[1;32m      5\u001b[0m     learning_rate\u001b[38;5;241m=\u001b[39m\u001b[38;5;241m0.2\u001b[39m,\n\u001b[0;32m   (...)\u001b[0m\n\u001b[1;32m      9\u001b[0m     random_state\u001b[38;5;241m=\u001b[39m\u001b[38;5;241m42\u001b[39m\n\u001b[1;32m     10\u001b[0m )\n\u001b[1;32m     12\u001b[0m \u001b[38;5;66;03m# Fit the model on the full training data\u001b[39;00m\n\u001b[0;32m---> 13\u001b[0m \u001b[43mfinal_model\u001b[49m\u001b[38;5;241;43m.\u001b[39;49m\u001b[43mfit\u001b[49m\u001b[43m(\u001b[49m\u001b[43mX_train_select\u001b[49m\u001b[43m,\u001b[49m\u001b[43m \u001b[49m\u001b[43mY_train\u001b[49m\u001b[43m)\u001b[49m\n\u001b[1;32m     15\u001b[0m \u001b[38;5;66;03m# Predict on the test data\u001b[39;00m\n\u001b[1;32m     16\u001b[0m Y_test_predictions \u001b[38;5;241m=\u001b[39m final_model\u001b[38;5;241m.\u001b[39mpredict(X_test_select)\n",
      "File \u001b[0;32m~/Documents/BU/F24/cs506/.venv/lib/python3.12/site-packages/sklearn/base.py:1473\u001b[0m, in \u001b[0;36m_fit_context.<locals>.decorator.<locals>.wrapper\u001b[0;34m(estimator, *args, **kwargs)\u001b[0m\n\u001b[1;32m   1466\u001b[0m     estimator\u001b[38;5;241m.\u001b[39m_validate_params()\n\u001b[1;32m   1468\u001b[0m \u001b[38;5;28;01mwith\u001b[39;00m config_context(\n\u001b[1;32m   1469\u001b[0m     skip_parameter_validation\u001b[38;5;241m=\u001b[39m(\n\u001b[1;32m   1470\u001b[0m         prefer_skip_nested_validation \u001b[38;5;129;01mor\u001b[39;00m global_skip_validation\n\u001b[1;32m   1471\u001b[0m     )\n\u001b[1;32m   1472\u001b[0m ):\n\u001b[0;32m-> 1473\u001b[0m     \u001b[38;5;28;01mreturn\u001b[39;00m \u001b[43mfit_method\u001b[49m\u001b[43m(\u001b[49m\u001b[43mestimator\u001b[49m\u001b[43m,\u001b[49m\u001b[43m \u001b[49m\u001b[38;5;241;43m*\u001b[39;49m\u001b[43margs\u001b[49m\u001b[43m,\u001b[49m\u001b[43m \u001b[49m\u001b[38;5;241;43m*\u001b[39;49m\u001b[38;5;241;43m*\u001b[39;49m\u001b[43mkwargs\u001b[49m\u001b[43m)\u001b[49m\n",
      "File \u001b[0;32m~/Documents/BU/F24/cs506/.venv/lib/python3.12/site-packages/sklearn/ensemble/_gb.py:783\u001b[0m, in \u001b[0;36mBaseGradientBoosting.fit\u001b[0;34m(self, X, y, sample_weight, monitor)\u001b[0m\n\u001b[1;32m    780\u001b[0m     \u001b[38;5;28mself\u001b[39m\u001b[38;5;241m.\u001b[39m_resize_state()\n\u001b[1;32m    782\u001b[0m \u001b[38;5;66;03m# fit the boosting stages\u001b[39;00m\n\u001b[0;32m--> 783\u001b[0m n_stages \u001b[38;5;241m=\u001b[39m \u001b[38;5;28;43mself\u001b[39;49m\u001b[38;5;241;43m.\u001b[39;49m\u001b[43m_fit_stages\u001b[49m\u001b[43m(\u001b[49m\n\u001b[1;32m    784\u001b[0m \u001b[43m    \u001b[49m\u001b[43mX_train\u001b[49m\u001b[43m,\u001b[49m\n\u001b[1;32m    785\u001b[0m \u001b[43m    \u001b[49m\u001b[43my_train\u001b[49m\u001b[43m,\u001b[49m\n\u001b[1;32m    786\u001b[0m \u001b[43m    \u001b[49m\u001b[43mraw_predictions\u001b[49m\u001b[43m,\u001b[49m\n\u001b[1;32m    787\u001b[0m \u001b[43m    \u001b[49m\u001b[43msample_weight_train\u001b[49m\u001b[43m,\u001b[49m\n\u001b[1;32m    788\u001b[0m \u001b[43m    \u001b[49m\u001b[38;5;28;43mself\u001b[39;49m\u001b[38;5;241;43m.\u001b[39;49m\u001b[43m_rng\u001b[49m\u001b[43m,\u001b[49m\n\u001b[1;32m    789\u001b[0m \u001b[43m    \u001b[49m\u001b[43mX_val\u001b[49m\u001b[43m,\u001b[49m\n\u001b[1;32m    790\u001b[0m \u001b[43m    \u001b[49m\u001b[43my_val\u001b[49m\u001b[43m,\u001b[49m\n\u001b[1;32m    791\u001b[0m \u001b[43m    \u001b[49m\u001b[43msample_weight_val\u001b[49m\u001b[43m,\u001b[49m\n\u001b[1;32m    792\u001b[0m \u001b[43m    \u001b[49m\u001b[43mbegin_at_stage\u001b[49m\u001b[43m,\u001b[49m\n\u001b[1;32m    793\u001b[0m \u001b[43m    \u001b[49m\u001b[43mmonitor\u001b[49m\u001b[43m,\u001b[49m\n\u001b[1;32m    794\u001b[0m \u001b[43m\u001b[49m\u001b[43m)\u001b[49m\n\u001b[1;32m    796\u001b[0m \u001b[38;5;66;03m# change shape of arrays after fit (early-stopping or additional ests)\u001b[39;00m\n\u001b[1;32m    797\u001b[0m \u001b[38;5;28;01mif\u001b[39;00m n_stages \u001b[38;5;241m!=\u001b[39m \u001b[38;5;28mself\u001b[39m\u001b[38;5;241m.\u001b[39mestimators_\u001b[38;5;241m.\u001b[39mshape[\u001b[38;5;241m0\u001b[39m]:\n",
      "File \u001b[0;32m~/Documents/BU/F24/cs506/.venv/lib/python3.12/site-packages/sklearn/ensemble/_gb.py:879\u001b[0m, in \u001b[0;36mBaseGradientBoosting._fit_stages\u001b[0;34m(self, X, y, raw_predictions, sample_weight, random_state, X_val, y_val, sample_weight_val, begin_at_stage, monitor)\u001b[0m\n\u001b[1;32m    872\u001b[0m         initial_loss \u001b[38;5;241m=\u001b[39m factor \u001b[38;5;241m*\u001b[39m \u001b[38;5;28mself\u001b[39m\u001b[38;5;241m.\u001b[39m_loss(\n\u001b[1;32m    873\u001b[0m             y_true\u001b[38;5;241m=\u001b[39my_oob_masked,\n\u001b[1;32m    874\u001b[0m             raw_prediction\u001b[38;5;241m=\u001b[39mraw_predictions[\u001b[38;5;241m~\u001b[39msample_mask],\n\u001b[1;32m    875\u001b[0m             sample_weight\u001b[38;5;241m=\u001b[39msample_weight_oob_masked,\n\u001b[1;32m    876\u001b[0m         )\n\u001b[1;32m    878\u001b[0m \u001b[38;5;66;03m# fit next stage of trees\u001b[39;00m\n\u001b[0;32m--> 879\u001b[0m raw_predictions \u001b[38;5;241m=\u001b[39m \u001b[38;5;28;43mself\u001b[39;49m\u001b[38;5;241;43m.\u001b[39;49m\u001b[43m_fit_stage\u001b[49m\u001b[43m(\u001b[49m\n\u001b[1;32m    880\u001b[0m \u001b[43m    \u001b[49m\u001b[43mi\u001b[49m\u001b[43m,\u001b[49m\n\u001b[1;32m    881\u001b[0m \u001b[43m    \u001b[49m\u001b[43mX\u001b[49m\u001b[43m,\u001b[49m\n\u001b[1;32m    882\u001b[0m \u001b[43m    \u001b[49m\u001b[43my\u001b[49m\u001b[43m,\u001b[49m\n\u001b[1;32m    883\u001b[0m \u001b[43m    \u001b[49m\u001b[43mraw_predictions\u001b[49m\u001b[43m,\u001b[49m\n\u001b[1;32m    884\u001b[0m \u001b[43m    \u001b[49m\u001b[43msample_weight\u001b[49m\u001b[43m,\u001b[49m\n\u001b[1;32m    885\u001b[0m \u001b[43m    \u001b[49m\u001b[43msample_mask\u001b[49m\u001b[43m,\u001b[49m\n\u001b[1;32m    886\u001b[0m \u001b[43m    \u001b[49m\u001b[43mrandom_state\u001b[49m\u001b[43m,\u001b[49m\n\u001b[1;32m    887\u001b[0m \u001b[43m    \u001b[49m\u001b[43mX_csc\u001b[49m\u001b[38;5;241;43m=\u001b[39;49m\u001b[43mX_csc\u001b[49m\u001b[43m,\u001b[49m\n\u001b[1;32m    888\u001b[0m \u001b[43m    \u001b[49m\u001b[43mX_csr\u001b[49m\u001b[38;5;241;43m=\u001b[39;49m\u001b[43mX_csr\u001b[49m\u001b[43m,\u001b[49m\n\u001b[1;32m    889\u001b[0m \u001b[43m\u001b[49m\u001b[43m)\u001b[49m\n\u001b[1;32m    891\u001b[0m \u001b[38;5;66;03m# track loss\u001b[39;00m\n\u001b[1;32m    892\u001b[0m \u001b[38;5;28;01mif\u001b[39;00m do_oob:\n",
      "File \u001b[0;32m~/Documents/BU/F24/cs506/.venv/lib/python3.12/site-packages/sklearn/ensemble/_gb.py:490\u001b[0m, in \u001b[0;36mBaseGradientBoosting._fit_stage\u001b[0;34m(self, i, X, y, raw_predictions, sample_weight, sample_mask, random_state, X_csc, X_csr)\u001b[0m\n\u001b[1;32m    487\u001b[0m     sample_weight \u001b[38;5;241m=\u001b[39m sample_weight \u001b[38;5;241m*\u001b[39m sample_mask\u001b[38;5;241m.\u001b[39mastype(np\u001b[38;5;241m.\u001b[39mfloat64)\n\u001b[1;32m    489\u001b[0m X \u001b[38;5;241m=\u001b[39m X_csc \u001b[38;5;28;01mif\u001b[39;00m X_csc \u001b[38;5;129;01mis\u001b[39;00m \u001b[38;5;129;01mnot\u001b[39;00m \u001b[38;5;28;01mNone\u001b[39;00m \u001b[38;5;28;01melse\u001b[39;00m X\n\u001b[0;32m--> 490\u001b[0m \u001b[43mtree\u001b[49m\u001b[38;5;241;43m.\u001b[39;49m\u001b[43mfit\u001b[49m\u001b[43m(\u001b[49m\n\u001b[1;32m    491\u001b[0m \u001b[43m    \u001b[49m\u001b[43mX\u001b[49m\u001b[43m,\u001b[49m\u001b[43m \u001b[49m\u001b[43mneg_g_view\u001b[49m\u001b[43m[\u001b[49m\u001b[43m:\u001b[49m\u001b[43m,\u001b[49m\u001b[43m \u001b[49m\u001b[43mk\u001b[49m\u001b[43m]\u001b[49m\u001b[43m,\u001b[49m\u001b[43m \u001b[49m\u001b[43msample_weight\u001b[49m\u001b[38;5;241;43m=\u001b[39;49m\u001b[43msample_weight\u001b[49m\u001b[43m,\u001b[49m\u001b[43m \u001b[49m\u001b[43mcheck_input\u001b[49m\u001b[38;5;241;43m=\u001b[39;49m\u001b[38;5;28;43;01mFalse\u001b[39;49;00m\n\u001b[1;32m    492\u001b[0m \u001b[43m\u001b[49m\u001b[43m)\u001b[49m\n\u001b[1;32m    494\u001b[0m \u001b[38;5;66;03m# update tree leaves\u001b[39;00m\n\u001b[1;32m    495\u001b[0m X_for_tree_update \u001b[38;5;241m=\u001b[39m X_csr \u001b[38;5;28;01mif\u001b[39;00m X_csr \u001b[38;5;129;01mis\u001b[39;00m \u001b[38;5;129;01mnot\u001b[39;00m \u001b[38;5;28;01mNone\u001b[39;00m \u001b[38;5;28;01melse\u001b[39;00m X\n",
      "File \u001b[0;32m~/Documents/BU/F24/cs506/.venv/lib/python3.12/site-packages/sklearn/base.py:1473\u001b[0m, in \u001b[0;36m_fit_context.<locals>.decorator.<locals>.wrapper\u001b[0;34m(estimator, *args, **kwargs)\u001b[0m\n\u001b[1;32m   1466\u001b[0m     estimator\u001b[38;5;241m.\u001b[39m_validate_params()\n\u001b[1;32m   1468\u001b[0m \u001b[38;5;28;01mwith\u001b[39;00m config_context(\n\u001b[1;32m   1469\u001b[0m     skip_parameter_validation\u001b[38;5;241m=\u001b[39m(\n\u001b[1;32m   1470\u001b[0m         prefer_skip_nested_validation \u001b[38;5;129;01mor\u001b[39;00m global_skip_validation\n\u001b[1;32m   1471\u001b[0m     )\n\u001b[1;32m   1472\u001b[0m ):\n\u001b[0;32m-> 1473\u001b[0m     \u001b[38;5;28;01mreturn\u001b[39;00m \u001b[43mfit_method\u001b[49m\u001b[43m(\u001b[49m\u001b[43mestimator\u001b[49m\u001b[43m,\u001b[49m\u001b[43m \u001b[49m\u001b[38;5;241;43m*\u001b[39;49m\u001b[43margs\u001b[49m\u001b[43m,\u001b[49m\u001b[43m \u001b[49m\u001b[38;5;241;43m*\u001b[39;49m\u001b[38;5;241;43m*\u001b[39;49m\u001b[43mkwargs\u001b[49m\u001b[43m)\u001b[49m\n",
      "File \u001b[0;32m~/Documents/BU/F24/cs506/.venv/lib/python3.12/site-packages/sklearn/tree/_classes.py:1377\u001b[0m, in \u001b[0;36mDecisionTreeRegressor.fit\u001b[0;34m(self, X, y, sample_weight, check_input)\u001b[0m\n\u001b[1;32m   1347\u001b[0m \u001b[38;5;129m@_fit_context\u001b[39m(prefer_skip_nested_validation\u001b[38;5;241m=\u001b[39m\u001b[38;5;28;01mTrue\u001b[39;00m)\n\u001b[1;32m   1348\u001b[0m \u001b[38;5;28;01mdef\u001b[39;00m \u001b[38;5;21mfit\u001b[39m(\u001b[38;5;28mself\u001b[39m, X, y, sample_weight\u001b[38;5;241m=\u001b[39m\u001b[38;5;28;01mNone\u001b[39;00m, check_input\u001b[38;5;241m=\u001b[39m\u001b[38;5;28;01mTrue\u001b[39;00m):\n\u001b[1;32m   1349\u001b[0m \u001b[38;5;250m    \u001b[39m\u001b[38;5;124;03m\"\"\"Build a decision tree regressor from the training set (X, y).\u001b[39;00m\n\u001b[1;32m   1350\u001b[0m \n\u001b[1;32m   1351\u001b[0m \u001b[38;5;124;03m    Parameters\u001b[39;00m\n\u001b[0;32m   (...)\u001b[0m\n\u001b[1;32m   1374\u001b[0m \u001b[38;5;124;03m        Fitted estimator.\u001b[39;00m\n\u001b[1;32m   1375\u001b[0m \u001b[38;5;124;03m    \"\"\"\u001b[39;00m\n\u001b[0;32m-> 1377\u001b[0m     \u001b[38;5;28;43msuper\u001b[39;49m\u001b[43m(\u001b[49m\u001b[43m)\u001b[49m\u001b[38;5;241;43m.\u001b[39;49m\u001b[43m_fit\u001b[49m\u001b[43m(\u001b[49m\n\u001b[1;32m   1378\u001b[0m \u001b[43m        \u001b[49m\u001b[43mX\u001b[49m\u001b[43m,\u001b[49m\n\u001b[1;32m   1379\u001b[0m \u001b[43m        \u001b[49m\u001b[43my\u001b[49m\u001b[43m,\u001b[49m\n\u001b[1;32m   1380\u001b[0m \u001b[43m        \u001b[49m\u001b[43msample_weight\u001b[49m\u001b[38;5;241;43m=\u001b[39;49m\u001b[43msample_weight\u001b[49m\u001b[43m,\u001b[49m\n\u001b[1;32m   1381\u001b[0m \u001b[43m        \u001b[49m\u001b[43mcheck_input\u001b[49m\u001b[38;5;241;43m=\u001b[39;49m\u001b[43mcheck_input\u001b[49m\u001b[43m,\u001b[49m\n\u001b[1;32m   1382\u001b[0m \u001b[43m    \u001b[49m\u001b[43m)\u001b[49m\n\u001b[1;32m   1383\u001b[0m     \u001b[38;5;28;01mreturn\u001b[39;00m \u001b[38;5;28mself\u001b[39m\n",
      "File \u001b[0;32m~/Documents/BU/F24/cs506/.venv/lib/python3.12/site-packages/sklearn/tree/_classes.py:472\u001b[0m, in \u001b[0;36mBaseDecisionTree._fit\u001b[0;34m(self, X, y, sample_weight, check_input, missing_values_in_feature_mask)\u001b[0m\n\u001b[1;32m    461\u001b[0m \u001b[38;5;28;01melse\u001b[39;00m:\n\u001b[1;32m    462\u001b[0m     builder \u001b[38;5;241m=\u001b[39m BestFirstTreeBuilder(\n\u001b[1;32m    463\u001b[0m         splitter,\n\u001b[1;32m    464\u001b[0m         min_samples_split,\n\u001b[0;32m   (...)\u001b[0m\n\u001b[1;32m    469\u001b[0m         \u001b[38;5;28mself\u001b[39m\u001b[38;5;241m.\u001b[39mmin_impurity_decrease,\n\u001b[1;32m    470\u001b[0m     )\n\u001b[0;32m--> 472\u001b[0m \u001b[43mbuilder\u001b[49m\u001b[38;5;241;43m.\u001b[39;49m\u001b[43mbuild\u001b[49m\u001b[43m(\u001b[49m\u001b[38;5;28;43mself\u001b[39;49m\u001b[38;5;241;43m.\u001b[39;49m\u001b[43mtree_\u001b[49m\u001b[43m,\u001b[49m\u001b[43m \u001b[49m\u001b[43mX\u001b[49m\u001b[43m,\u001b[49m\u001b[43m \u001b[49m\u001b[43my\u001b[49m\u001b[43m,\u001b[49m\u001b[43m \u001b[49m\u001b[43msample_weight\u001b[49m\u001b[43m,\u001b[49m\u001b[43m \u001b[49m\u001b[43mmissing_values_in_feature_mask\u001b[49m\u001b[43m)\u001b[49m\n\u001b[1;32m    474\u001b[0m \u001b[38;5;28;01mif\u001b[39;00m \u001b[38;5;28mself\u001b[39m\u001b[38;5;241m.\u001b[39mn_outputs_ \u001b[38;5;241m==\u001b[39m \u001b[38;5;241m1\u001b[39m \u001b[38;5;129;01mand\u001b[39;00m is_classifier(\u001b[38;5;28mself\u001b[39m):\n\u001b[1;32m    475\u001b[0m     \u001b[38;5;28mself\u001b[39m\u001b[38;5;241m.\u001b[39mn_classes_ \u001b[38;5;241m=\u001b[39m \u001b[38;5;28mself\u001b[39m\u001b[38;5;241m.\u001b[39mn_classes_[\u001b[38;5;241m0\u001b[39m]\n",
      "\u001b[0;31mKeyboardInterrupt\u001b[0m: "
     ]
    }
   ],
   "source": [
    "best_params = random_search.best_params_\n",
    "print(\"Best Parameters:\", best_params['learning_rate'], best_params['max_depth'], best_params['n_estimators'])\n",
    "final_model = GradientBoostingClassifier(\n",
    "    n_estimators=200,\n",
    "    learning_rate=0.2,\n",
    "    max_depth=3,\n",
    "    subsample=1.0,\n",
    "    min_samples_split=2,\n",
    "    random_state=42\n",
    ")\n",
    "\n",
    "# Fit the model on the full training data\n",
    "final_model.fit(X_train_select, Y_train)\n",
    "\n",
    "# Predict on the test data\n",
    "Y_test_predictions = final_model.predict(X_test_select)"
   ]
  },
  {
   "cell_type": "markdown",
   "metadata": {},
   "source": [
    "# Model Evaluation"
   ]
  },
  {
   "cell_type": "code",
   "execution_count": 14,
   "metadata": {},
   "outputs": [
    {
     "name": "stdout",
     "output_type": "stream",
     "text": [
      "Accuracy on testing set =  0.5351622250468578\n"
     ]
    },
    {
     "data": {
      "image/png": "[encoded data removed]",
      "text/plain": [
       "<Figure size 640x480 with 2 Axes>"
      ]
     },
     "metadata": {},
     "output_type": "display_data"
    },
    {
     "name": "stdout",
     "output_type": "stream",
     "text": [
      "Classification Report:\n",
      "               precision    recall  f1-score   support\n",
      "\n",
      "         1.0       0.88      0.01      0.01     22649\n",
      "         2.0       0.00      0.00      0.00     22182\n",
      "         3.0       0.00      0.00      0.00     43979\n",
      "         4.0       0.00      0.00      0.00     83939\n",
      "         5.0       0.54      1.00      0.70    198587\n",
      "\n",
      "    accuracy                           0.54    371336\n",
      "   macro avg       0.28      0.20      0.14    371336\n",
      "weighted avg       0.34      0.54      0.37    371336\n",
      "\n"
     ]
    },
    {
     "name": "stderr",
     "output_type": "stream",
     "text": [
      "/Users/paulaLburgos/Documents/BU/F24/cs506/.venv/lib/python3.12/site-packages/sklearn/metrics/_classification.py:1531: UndefinedMetricWarning: Precision is ill-defined and being set to 0.0 in labels with no predicted samples. Use `zero_division` parameter to control this behavior.\n",
      "  _warn_prf(average, modifier, f\"{metric.capitalize()} is\", len(result))\n",
      "/Users/paulaLburgos/Documents/BU/F24/cs506/.venv/lib/python3.12/site-packages/sklearn/metrics/_classification.py:1531: UndefinedMetricWarning: Precision is ill-defined and being set to 0.0 in labels with no predicted samples. Use `zero_division` parameter to control this behavior.\n",
      "  _warn_prf(average, modifier, f\"{metric.capitalize()} is\", len(result))\n",
      "/Users/paulaLburgos/Documents/BU/F24/cs506/.venv/lib/python3.12/site-packages/sklearn/metrics/_classification.py:1531: UndefinedMetricWarning: Precision is ill-defined and being set to 0.0 in labels with no predicted samples. Use `zero_division` parameter to control this behavior.\n",
      "  _warn_prf(average, modifier, f\"{metric.capitalize()} is\", len(result))\n"
     ]
    }
   ],
   "source": [
    "# Evaluate your model on the testing set\n",
    "print(\"Accuracy on testing set = \", accuracy_score(Y_test, Y_test_predictions))\n",
    "# previous accuracy was 0.559\n",
    "\n",
    "# Plot a confusion matrix\n",
    "cm = confusion_matrix(Y_test, Y_test_predictions, normalize='true')\n",
    "sns.heatmap(cm, annot=True)\n",
    "plt.title('Confusion matrix of the classifier')\n",
    "plt.xlabel('Predicted')\n",
    "plt.ylabel('True')\n",
    "plt.show()\n",
    "\n",
    "report = classification_report(Y_test, Y_test_predictions)\n",
    "print(\"Classification Report:\\n\", report)"
   ]
  },
  {
   "cell_type": "markdown",
   "metadata": {},
   "source": [
    "# Create submission file"
   ]
  },
  {
   "cell_type": "code",
   "execution_count": 15,
   "metadata": {},
   "outputs": [],
   "source": [
    "# Create the submission file\n",
    "X_submission['Score'] = final_model.predict(X_submission_select)\n",
    "submission = X_submission[['Id', 'Score']]\n",
    "submission.to_csv(\"./data/submission.csv\", index=False)"
   ]
  }
 ],
 "metadata": {
  "kernelspec": {
   "display_name": ".venv",
   "language": "python",
   "name": "python3"
  },
  "language_info": {
   "codemirror_mode": {
    "name": "ipython",
    "version": 3
   },
   "file_extension": ".py",
   "mimetype": "text/x-python",
   "name": "python",
   "nbconvert_exporter": "python",
   "pygments_lexer": "ipython3",
   "version": "3.12.6"
  }
 },
 "nbformat": 4,
 "nbformat_minor": 2
}
