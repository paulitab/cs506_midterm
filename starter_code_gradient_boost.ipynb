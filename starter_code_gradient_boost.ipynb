{
 "cells": [
  {
   "cell_type": "markdown",
   "metadata": {},
   "source": [
    "# Libraries"
   ]
  },
  {
   "cell_type": "code",
   "execution_count": 19,
   "metadata": {},
   "outputs": [],
   "source": [
    "import pickle\n",
    "import pandas as pd\n",
    "import seaborn as sns\n",
    "from os.path import exists\n",
    "import matplotlib.pyplot as plt\n",
    "from sklearn.neighbors import KNeighborsClassifier\n",
    "from sklearn.model_selection import train_test_split\n",
    "from sklearn.metrics import accuracy_score, confusion_matrix\n",
    "\n",
    "# importing libraries for VADER  \n",
    "from vaderSentiment.vaderSentiment import SentimentIntensityAnalyzer\n",
    "from xgboost import XGBClassifier\n",
    "from sklearn.model_selection import train_test_split, GridSearchCV, RandomizedSearchCV\n",
    "from sklearn.ensemble import GradientBoostingClassifier\n",
    "from sklearn.metrics import accuracy_score, confusion_matrix\n",
    "from wordcloud import WordCloud, STOPWORDS\n",
    "import missingno as msno\n",
    "from sklearn.preprocessing import OneHotEncoder\n",
    "from sklearn.linear_model import Ridge\n",
    "from scipy.sparse import hstack\n",
    "from sklearn.preprocessing import StandardScaler\n",
    "from joblib import Parallel, delayed\n",
    "import multiprocessing\n",
    "from sklearn.utils import resample\n",
    "import numpy as np\n",
    "from sklearn.metrics import classification_report"
   ]
  },
  {
   "cell_type": "markdown",
   "metadata": {},
   "source": [
    "# Loading the Files\n",
    "\n",
    "Download the csv files into the `data/` directory."
   ]
  },
  {
   "cell_type": "code",
   "execution_count": 20,
   "metadata": {},
   "outputs": [
    {
     "name": "stdout",
     "output_type": "stream",
     "text": [
      "train.csv shape is  (1697533, 9)\n",
      "test.csv shape is  (212192, 2)\n",
      "\n",
      "        Id   ProductId          UserId  HelpfulnessNumerator  \\\n",
      "0   914403  B0009W5KHM   AV6QDP8Q0ONK4                     2   \n",
      "1   354887  6303079709  A2I8RXJN80A2D2                     0   \n",
      "2  1407653  B004H0M2XC  A3FHV3RV8Z12E6                     0   \n",
      "3  1377458  B003ZJ9536  A12VLTA3ZHVPUY                     1   \n",
      "4   475323  630574453X  A13NM1PES9OXVN                     2   \n",
      "\n",
      "   HelpfulnessDenominator        Time  \\\n",
      "0                       2  1341014400   \n",
      "1                       0  1168819200   \n",
      "2                       0  1386201600   \n",
      "3                       1  1348704000   \n",
      "4                       3   970012800   \n",
      "\n",
      "                                         Summary  \\\n",
      "0                                  GOOD FUN FILM   \n",
      "1                                   Movie Review   \n",
      "2             When is it a good time to Consent?   \n",
      "3                                          TRUTH   \n",
      "4  Intelligent and bittersweet -- stays with you   \n",
      "\n",
      "                                                Text  Score  \n",
      "0  While most straight to DVD films are not worth...    5.0  \n",
      "1  I have wanted this one for sometime, also.  I ...    5.0  \n",
      "2  Actually this was a pretty darn good indie fil...    4.0  \n",
      "3  Episodes 37 to 72 of the series press on in a ...    5.0  \n",
      "4  I was really impressed with this movie, but wa...    3.0  \n",
      "\n",
      "        Id  Score\n",
      "0  1323432    NaN\n",
      "1  1137299    NaN\n",
      "2  1459366    NaN\n",
      "3   931601    NaN\n",
      "4  1311995    NaN\n",
      "\n",
      "                 Id  HelpfulnessNumerator  HelpfulnessDenominator  \\\n",
      "count  1.697533e+06          1.697533e+06            1.697533e+06   \n",
      "mean   8.487660e+05          3.569048e+00            5.301422e+00   \n",
      "std    4.900357e+05          1.727883e+01            2.024445e+01   \n",
      "min    0.000000e+00          0.000000e+00            0.000000e+00   \n",
      "25%    4.243830e+05          0.000000e+00            0.000000e+00   \n",
      "50%    8.487660e+05          1.000000e+00            1.000000e+00   \n",
      "75%    1.273149e+06          3.000000e+00            5.000000e+00   \n",
      "max    1.697532e+06          6.084000e+03            6.510000e+03   \n",
      "\n",
      "               Time         Score  \n",
      "count  1.697533e+06  1.485341e+06  \n",
      "mean   1.262422e+09  4.110517e+00  \n",
      "std    1.289277e+08  1.197651e+00  \n",
      "min    8.793792e+08  1.000000e+00  \n",
      "25%    1.164413e+09  4.000000e+00  \n",
      "50%    1.307491e+09  5.000000e+00  \n",
      "75%    1.373242e+09  5.000000e+00  \n",
      "max    1.406074e+09  5.000000e+00  \n"
     ]
    },
    {
     "data": {
      "image/png": "[encoded data removed]",
      "text/plain": [
       "<Figure size 640x480 with 1 Axes>"
      ]
     },
     "metadata": {},
     "output_type": "display_data"
    },
    {
     "name": "stdout",
     "output_type": "stream",
     "text": [
      "\n",
      "EVERYTHING IS PROPERLY SET UP! YOU ARE READY TO START\n"
     ]
    }
   ],
   "source": [
    "trainingSet = pd.read_csv(\"./data/train.csv\")\n",
    "testingSet = pd.read_csv(\"./data/test.csv\")\n",
    "\n",
    "print(\"train.csv shape is \", trainingSet.shape)\n",
    "print(\"test.csv shape is \", testingSet.shape)\n",
    "\n",
    "print()\n",
    "\n",
    "print(trainingSet.head())\n",
    "print()\n",
    "print(testingSet.head())\n",
    "\n",
    "print()\n",
    "\n",
    "print(trainingSet.describe())\n",
    "\n",
    "trainingSet['Score'].value_counts().plot(kind='bar', legend=True, alpha=.5)\n",
    "plt.show()\n",
    "\n",
    "print()\n",
    "print(\"EVERYTHING IS PROPERLY SET UP! YOU ARE READY TO START\")"
   ]
  },
  {
   "cell_type": "code",
   "execution_count": 21,
   "metadata": {},
   "outputs": [
    {
     "name": "stdout",
     "output_type": "stream",
     "text": [
      "Class Frequency: Score\n",
      "1.0     91190\n",
      "2.0     89678\n",
      "3.0    176082\n",
      "4.0    335228\n",
      "5.0    793163\n",
      "Name: count, dtype: int64\n",
      "\n",
      "Class Imbalance Ratio: 0.11\n"
     ]
    }
   ],
   "source": [
    "# Calculate the class imbalance\n",
    "score_distribution = trainingSet['Score'].value_counts().sort_index()\n",
    "class_imbalance = score_distribution.min() / score_distribution.max()\n",
    "print(f\"Class Frequency: {score_distribution}\")\n",
    "print()\n",
    "print(f\"Class Imbalance Ratio: {class_imbalance:.2f}\")"
   ]
  },
  {
   "cell_type": "code",
   "execution_count": 22,
   "metadata": {},
   "outputs": [],
   "source": [
    "# Separate each class\n",
    "class_1 = trainingSet[trainingSet['Score'] == 1]\n",
    "class_2 = trainingSet[trainingSet['Score'] == 2]\n",
    "class_3 = trainingSet[trainingSet['Score'] == 3]\n",
    "class_4 = trainingSet[trainingSet['Score'] == 4]\n",
    "class_5 = trainingSet[trainingSet['Score'] == 5]\n",
    "\n",
    "# Downsample class 5\n",
    "class_5_downsampled = resample(class_5, replace=False, n_samples=len(class_4), random_state=42)\n",
    "\n",
    "# Optional: Upsample classes with fewer samples\n",
    "class_1_upsampled = resample(class_1, replace=True, n_samples=len(class_4), random_state=42)\n",
    "class_2_upsampled = resample(class_2, replace=True, n_samples=len(class_4), random_state=42)\n",
    "class_3_upsampled = resample(class_3, replace=True, n_samples=len(class_4), random_state=42)\n",
    "\n",
    "# Combine all classes into a new balanced dataset\n",
    "trainingSet_balanced = pd.concat([class_1_upsampled, class_2_upsampled, class_3_upsampled, class_4, class_5_downsampled])"
   ]
  },
  {
   "cell_type": "code",
   "execution_count": 36,
   "metadata": {},
   "outputs": [
    {
     "name": "stdout",
     "output_type": "stream",
     "text": [
      "Class Frequency: Score\n",
      "1.0    335228\n",
      "2.0    335228\n",
      "3.0    335228\n",
      "4.0    335228\n",
      "5.0    335228\n",
      "Name: count, dtype: int64\n",
      "\n",
      "Class Imbalance Ratio: 1.00\n"
     ]
    }
   ],
   "source": [
    "# Calculate the class imbalance\n",
    "score_distribution = trainingSet_balanced['Score'].value_counts().sort_index()\n",
    "class_imbalance = score_distribution.min() / score_distribution.max()\n",
    "print(f\"Class Frequency: {score_distribution}\")\n",
    "print()\n",
    "print(f\"Class Imbalance Ratio: {class_imbalance:.2f}\")\n",
    "\n",
    "# perfecctly balanced dataset ? explore potential issues"
   ]
  },
  {
   "cell_type": "markdown",
   "metadata": {},
   "source": [
    "# Adding Features"
   ]
  },
  {
   "cell_type": "code",
   "execution_count": 24,
   "metadata": {},
   "outputs": [
    {
     "name": "stdout",
     "output_type": "stream",
     "text": [
      "Processing row 0\n",
      "Processing row 100000\n",
      "Processing row 200000\n",
      "Processing row 300000\n",
      "Processing row 400000\n",
      "Processing row 500000\n",
      "Processing row 600000\n",
      "Processing row 700000\n",
      "Processing row 800000\n",
      "Processing row 900000\n",
      "Processing row 1000000\n",
      "Processing row 1100000\n",
      "Processing row 1200000\n",
      "Processing row 1300000\n",
      "Processing row 1400000\n",
      "Processing row 1500000\n",
      "Processing row 1600000\n",
      "   Text_Sentiment\n",
      "0         -0.6205\n",
      "1          0.4939\n",
      "2          0.9733\n",
      "3          0.9750\n",
      "4          0.9981\n"
     ]
    }
   ],
   "source": [
    "# Initialize VADER sentiment analyzer\n",
    "analyzer = SentimentIntensityAnalyzer()\n",
    "\n",
    "# Function to get VADER compound score for a given text\n",
    "def get_vader_sentiment(text, idx):\n",
    "    if not isinstance(text, str):\n",
    "        text = ''\n",
    "    if idx % 100000 == 0:  # Print progress every 100,000 rows\n",
    "        print(f\"Processing row {idx}\")\n",
    "    return analyzer.polarity_scores(text)['compound']\n",
    "\n",
    "def parallel_vader_sentiment(df, text_column):\n",
    "    num_cores = multiprocessing.cpu_count()\n",
    "\n",
    "    sentiment_scores = Parallel(n_jobs=num_cores)(\n",
    "        delayed(get_vader_sentiment)(text, i) for i, text in enumerate(df[text_column])\n",
    "    )\n",
    "    return sentiment_scores\n",
    "\n",
    "def add_features_to(df):\n",
    "    # This is where you can do all your feature extraction\n",
    "\n",
    "    # Calculate 'Helpfulness' feature\n",
    "    df['Helpfulness'] = df['HelpfulnessNumerator'] / df['HelpfulnessDenominator']\n",
    "    df['Helpfulness'] = df['Helpfulness'].fillna(0)\n",
    "\n",
    "    # Drop HelpfulnessNumerator and HelpfulnessDenominator\n",
    "    df = df.drop(columns=['HelpfulnessNumerator', 'HelpfulnessDenominator'])\n",
    "\n",
    "    # Convert Time to datetime\n",
    "    df['Time'] = pd.to_datetime(df['Time'], unit='s')\n",
    "    # ridge does not work with datetime need to convert to int\n",
    "    df['Year'] = df['Time'].dt.year\n",
    "    df['Month'] = df['Time'].dt.month\n",
    "    df['Day'] = df['Time'].dt.day\n",
    "    df['DayOfWeek'] = df['Time'].dt.dayofweek\n",
    "    df.drop(columns=['Time'], inplace=True)\n",
    "\n",
    "    # impute missing values with empty strings\n",
    "    df['Text'] = df['Text'].fillna('').astype(str)\n",
    "    df['Summary'] = df['Summary'].fillna('').astype(str)\n",
    "    # Convert any non-string entries in 'Text' column to strings\n",
    "\n",
    "    df['ReviewLength'] = df.apply(lambda row : len(row['Text'].split()) if row['Text'] else 0, axis = 1)\n",
    "\n",
    "    # Extract the sentiment from the summary and text    \n",
    "    df['Text_Sentiment'] = parallel_vader_sentiment(trainingSet, 'Text')\n",
    "    # trainingSet['Summary_Sentiment'] = parallel_vader_sentiment(trainingSet, 'Summary')\n",
    "    # created a lot of noise\n",
    "\n",
    "    print(df[['Text_Sentiment']].head())\n",
    "    \n",
    "    return df\n",
    "\n",
    "# Load the feature extracted files if they've already been generated\n",
    "if exists('./data/X_train.csv'):\n",
    "    X_train = pd.read_csv(\"./data/X_train.csv\")\n",
    "if exists('./data/X_submission.csv'):\n",
    "    X_submission = pd.read_csv(\"./data/X_submission.csv\")\n",
    "else:\n",
    "    # Process the DataFrame in chunks\n",
    "    train = add_features_to(trainingSet)\n",
    "\n",
    "    # Merge on Id so that the submission set can have feature columns as well\n",
    "    X_submission = pd.merge(train, testingSet, left_on='Id', right_on='Id')\n",
    "    X_submission = X_submission.drop(columns=['Score_x'])\n",
    "    X_submission = X_submission.rename(columns={'Score_y': 'Score'})\n",
    "\n",
    "    # The training set is where the score is not null\n",
    "    X_train = train[train['Score'].notnull()]\n",
    "\n",
    "    X_submission.to_csv(\"./data/X_submission.csv\", index=False)\n",
    "    X_train.to_csv(\"./data/X_train.csv\", index=False)"
   ]
  },
  {
   "cell_type": "markdown",
   "metadata": {},
   "source": [
    "# Sample + Split into training and testing set"
   ]
  },
  {
   "cell_type": "code",
   "execution_count": 25,
   "metadata": {},
   "outputs": [],
   "source": [
    "# Split training set into training and testing set\n",
    "X_train, X_test, Y_train, Y_test = train_test_split(\n",
    "    X_train.drop(columns=['Score']),\n",
    "    X_train['Score'],\n",
    "    test_size=1/4.0,\n",
    "    random_state=42\n",
    ")"
   ]
  },
  {
   "cell_type": "code",
   "execution_count": 26,
   "metadata": {},
   "outputs": [
    {
     "name": "stdout",
     "output_type": "stream",
     "text": [
      "Columns in X_train: Index(['Id', 'ProductId', 'UserId', 'Summary', 'Text', 'Helpfulness', 'Year',\n",
      "       'Month', 'Day', 'DayOfWeek', 'ReviewLength', 'Text_Sentiment'],\n",
      "      dtype='object')\n",
      "Columns in X_submission: Index(['Id', 'ProductId', 'UserId', 'Summary', 'Text', 'Helpfulness', 'Year',\n",
      "       'Month', 'Day', 'DayOfWeek', 'ReviewLength', 'Text_Sentiment', 'Score'],\n",
      "      dtype='object')\n"
     ]
    }
   ],
   "source": [
    "print(\"Columns in X_train:\", X_train.columns)\n",
    "print(\"Columns in X_submission:\", X_submission.columns)"
   ]
  },
  {
   "cell_type": "markdown",
   "metadata": {},
   "source": [
    "# Feature Selection"
   ]
  },
  {
   "cell_type": "code",
   "execution_count": 27,
   "metadata": {},
   "outputs": [],
   "source": [
    "features = ['Id', 'Text_Sentiment', 'Helpfulness', 'DayOfWeek', 'ReviewLength']\n",
    "\n",
    "X_train_select = X_train[features]\n",
    "X_test_select = X_test[features]\n",
    "X_submission_select = X_submission[features]"
   ]
  },
  {
   "cell_type": "markdown",
   "metadata": {},
   "source": [
    "# Model Creation"
   ]
  },
  {
   "cell_type": "code",
   "execution_count": 28,
   "metadata": {},
   "outputs": [
    {
     "name": "stdout",
     "output_type": "stream",
     "text": [
      "Fitting 3 folds for each of 4 candidates, totalling 12 fits\n"
     ]
    },
    {
     "ename": "KeyboardInterrupt",
     "evalue": "",
     "output_type": "error",
     "traceback": [
      "\u001b[0;31m---------------------------------------------------------------------------\u001b[0m",
      "\u001b[0;31mKeyboardInterrupt\u001b[0m                         Traceback (most recent call last)",
      "Cell \u001b[0;32mIn[28], line 26\u001b[0m\n\u001b[1;32m     23\u001b[0m grid_search \u001b[38;5;241m=\u001b[39m GridSearchCV(GradientBoostingClassifier(random_state\u001b[38;5;241m=\u001b[39m\u001b[38;5;241m42\u001b[39m), param_grid, scoring\u001b[38;5;241m=\u001b[39m\u001b[38;5;124m'\u001b[39m\u001b[38;5;124maccuracy\u001b[39m\u001b[38;5;124m'\u001b[39m, cv\u001b[38;5;241m=\u001b[39m\u001b[38;5;241m3\u001b[39m, n_jobs\u001b[38;5;241m=\u001b[39m\u001b[38;5;241m-\u001b[39m\u001b[38;5;241m1\u001b[39m, verbose\u001b[38;5;241m=\u001b[39m\u001b[38;5;241m3\u001b[39m)\n\u001b[1;32m     25\u001b[0m \u001b[38;5;66;03m# Fit grid search on training data\u001b[39;00m\n\u001b[0;32m---> 26\u001b[0m \u001b[43mgrid_search\u001b[49m\u001b[38;5;241;43m.\u001b[39;49m\u001b[43mfit\u001b[49m\u001b[43m(\u001b[49m\u001b[43mX_train_small\u001b[49m\u001b[43m,\u001b[49m\u001b[43m \u001b[49m\u001b[43mY_train_small\u001b[49m\u001b[43m)\u001b[49m\n\u001b[1;32m     28\u001b[0m \u001b[38;5;66;03m# Retrieve the best model\u001b[39;00m\n\u001b[1;32m     29\u001b[0m best_model \u001b[38;5;241m=\u001b[39m grid_search\u001b[38;5;241m.\u001b[39mbest_estimator_\n",
      "File \u001b[0;32m~/Documents/BU/F24/cs506/.venv/lib/python3.12/site-packages/sklearn/base.py:1473\u001b[0m, in \u001b[0;36m_fit_context.<locals>.decorator.<locals>.wrapper\u001b[0;34m(estimator, *args, **kwargs)\u001b[0m\n\u001b[1;32m   1466\u001b[0m     estimator\u001b[38;5;241m.\u001b[39m_validate_params()\n\u001b[1;32m   1468\u001b[0m \u001b[38;5;28;01mwith\u001b[39;00m config_context(\n\u001b[1;32m   1469\u001b[0m     skip_parameter_validation\u001b[38;5;241m=\u001b[39m(\n\u001b[1;32m   1470\u001b[0m         prefer_skip_nested_validation \u001b[38;5;129;01mor\u001b[39;00m global_skip_validation\n\u001b[1;32m   1471\u001b[0m     )\n\u001b[1;32m   1472\u001b[0m ):\n\u001b[0;32m-> 1473\u001b[0m     \u001b[38;5;28;01mreturn\u001b[39;00m \u001b[43mfit_method\u001b[49m\u001b[43m(\u001b[49m\u001b[43mestimator\u001b[49m\u001b[43m,\u001b[49m\u001b[43m \u001b[49m\u001b[38;5;241;43m*\u001b[39;49m\u001b[43margs\u001b[49m\u001b[43m,\u001b[49m\u001b[43m \u001b[49m\u001b[38;5;241;43m*\u001b[39;49m\u001b[38;5;241;43m*\u001b[39;49m\u001b[43mkwargs\u001b[49m\u001b[43m)\u001b[49m\n",
      "File \u001b[0;32m~/Documents/BU/F24/cs506/.venv/lib/python3.12/site-packages/sklearn/model_selection/_search.py:1019\u001b[0m, in \u001b[0;36mBaseSearchCV.fit\u001b[0;34m(self, X, y, **params)\u001b[0m\n\u001b[1;32m   1013\u001b[0m     results \u001b[38;5;241m=\u001b[39m \u001b[38;5;28mself\u001b[39m\u001b[38;5;241m.\u001b[39m_format_results(\n\u001b[1;32m   1014\u001b[0m         all_candidate_params, n_splits, all_out, all_more_results\n\u001b[1;32m   1015\u001b[0m     )\n\u001b[1;32m   1017\u001b[0m     \u001b[38;5;28;01mreturn\u001b[39;00m results\n\u001b[0;32m-> 1019\u001b[0m \u001b[38;5;28;43mself\u001b[39;49m\u001b[38;5;241;43m.\u001b[39;49m\u001b[43m_run_search\u001b[49m\u001b[43m(\u001b[49m\u001b[43mevaluate_candidates\u001b[49m\u001b[43m)\u001b[49m\n\u001b[1;32m   1021\u001b[0m \u001b[38;5;66;03m# multimetric is determined here because in the case of a callable\u001b[39;00m\n\u001b[1;32m   1022\u001b[0m \u001b[38;5;66;03m# self.scoring the return type is only known after calling\u001b[39;00m\n\u001b[1;32m   1023\u001b[0m first_test_score \u001b[38;5;241m=\u001b[39m all_out[\u001b[38;5;241m0\u001b[39m][\u001b[38;5;124m\"\u001b[39m\u001b[38;5;124mtest_scores\u001b[39m\u001b[38;5;124m\"\u001b[39m]\n",
      "File \u001b[0;32m~/Documents/BU/F24/cs506/.venv/lib/python3.12/site-packages/sklearn/model_selection/_search.py:1573\u001b[0m, in \u001b[0;36mGridSearchCV._run_search\u001b[0;34m(self, evaluate_candidates)\u001b[0m\n\u001b[1;32m   1571\u001b[0m \u001b[38;5;28;01mdef\u001b[39;00m \u001b[38;5;21m_run_search\u001b[39m(\u001b[38;5;28mself\u001b[39m, evaluate_candidates):\n\u001b[1;32m   1572\u001b[0m \u001b[38;5;250m    \u001b[39m\u001b[38;5;124;03m\"\"\"Search all candidates in param_grid\"\"\"\u001b[39;00m\n\u001b[0;32m-> 1573\u001b[0m     \u001b[43mevaluate_candidates\u001b[49m\u001b[43m(\u001b[49m\u001b[43mParameterGrid\u001b[49m\u001b[43m(\u001b[49m\u001b[38;5;28;43mself\u001b[39;49m\u001b[38;5;241;43m.\u001b[39;49m\u001b[43mparam_grid\u001b[49m\u001b[43m)\u001b[49m\u001b[43m)\u001b[49m\n",
      "File \u001b[0;32m~/Documents/BU/F24/cs506/.venv/lib/python3.12/site-packages/sklearn/model_selection/_search.py:965\u001b[0m, in \u001b[0;36mBaseSearchCV.fit.<locals>.evaluate_candidates\u001b[0;34m(candidate_params, cv, more_results)\u001b[0m\n\u001b[1;32m    957\u001b[0m \u001b[38;5;28;01mif\u001b[39;00m \u001b[38;5;28mself\u001b[39m\u001b[38;5;241m.\u001b[39mverbose \u001b[38;5;241m>\u001b[39m \u001b[38;5;241m0\u001b[39m:\n\u001b[1;32m    958\u001b[0m     \u001b[38;5;28mprint\u001b[39m(\n\u001b[1;32m    959\u001b[0m         \u001b[38;5;124m\"\u001b[39m\u001b[38;5;124mFitting \u001b[39m\u001b[38;5;132;01m{0}\u001b[39;00m\u001b[38;5;124m folds for each of \u001b[39m\u001b[38;5;132;01m{1}\u001b[39;00m\u001b[38;5;124m candidates,\u001b[39m\u001b[38;5;124m\"\u001b[39m\n\u001b[1;32m    960\u001b[0m         \u001b[38;5;124m\"\u001b[39m\u001b[38;5;124m totalling \u001b[39m\u001b[38;5;132;01m{2}\u001b[39;00m\u001b[38;5;124m fits\u001b[39m\u001b[38;5;124m\"\u001b[39m\u001b[38;5;241m.\u001b[39mformat(\n\u001b[1;32m    961\u001b[0m             n_splits, n_candidates, n_candidates \u001b[38;5;241m*\u001b[39m n_splits\n\u001b[1;32m    962\u001b[0m         )\n\u001b[1;32m    963\u001b[0m     )\n\u001b[0;32m--> 965\u001b[0m out \u001b[38;5;241m=\u001b[39m \u001b[43mparallel\u001b[49m\u001b[43m(\u001b[49m\n\u001b[1;32m    966\u001b[0m \u001b[43m    \u001b[49m\u001b[43mdelayed\u001b[49m\u001b[43m(\u001b[49m\u001b[43m_fit_and_score\u001b[49m\u001b[43m)\u001b[49m\u001b[43m(\u001b[49m\n\u001b[1;32m    967\u001b[0m \u001b[43m        \u001b[49m\u001b[43mclone\u001b[49m\u001b[43m(\u001b[49m\u001b[43mbase_estimator\u001b[49m\u001b[43m)\u001b[49m\u001b[43m,\u001b[49m\n\u001b[1;32m    968\u001b[0m \u001b[43m        \u001b[49m\u001b[43mX\u001b[49m\u001b[43m,\u001b[49m\n\u001b[1;32m    969\u001b[0m \u001b[43m        \u001b[49m\u001b[43my\u001b[49m\u001b[43m,\u001b[49m\n\u001b[1;32m    970\u001b[0m \u001b[43m        \u001b[49m\u001b[43mtrain\u001b[49m\u001b[38;5;241;43m=\u001b[39;49m\u001b[43mtrain\u001b[49m\u001b[43m,\u001b[49m\n\u001b[1;32m    971\u001b[0m \u001b[43m        \u001b[49m\u001b[43mtest\u001b[49m\u001b[38;5;241;43m=\u001b[39;49m\u001b[43mtest\u001b[49m\u001b[43m,\u001b[49m\n\u001b[1;32m    972\u001b[0m \u001b[43m        \u001b[49m\u001b[43mparameters\u001b[49m\u001b[38;5;241;43m=\u001b[39;49m\u001b[43mparameters\u001b[49m\u001b[43m,\u001b[49m\n\u001b[1;32m    973\u001b[0m \u001b[43m        \u001b[49m\u001b[43msplit_progress\u001b[49m\u001b[38;5;241;43m=\u001b[39;49m\u001b[43m(\u001b[49m\u001b[43msplit_idx\u001b[49m\u001b[43m,\u001b[49m\u001b[43m \u001b[49m\u001b[43mn_splits\u001b[49m\u001b[43m)\u001b[49m\u001b[43m,\u001b[49m\n\u001b[1;32m    974\u001b[0m \u001b[43m        \u001b[49m\u001b[43mcandidate_progress\u001b[49m\u001b[38;5;241;43m=\u001b[39;49m\u001b[43m(\u001b[49m\u001b[43mcand_idx\u001b[49m\u001b[43m,\u001b[49m\u001b[43m \u001b[49m\u001b[43mn_candidates\u001b[49m\u001b[43m)\u001b[49m\u001b[43m,\u001b[49m\n\u001b[1;32m    975\u001b[0m \u001b[43m        \u001b[49m\u001b[38;5;241;43m*\u001b[39;49m\u001b[38;5;241;43m*\u001b[39;49m\u001b[43mfit_and_score_kwargs\u001b[49m\u001b[43m,\u001b[49m\n\u001b[1;32m    976\u001b[0m \u001b[43m    \u001b[49m\u001b[43m)\u001b[49m\n\u001b[1;32m    977\u001b[0m \u001b[43m    \u001b[49m\u001b[38;5;28;43;01mfor\u001b[39;49;00m\u001b[43m \u001b[49m\u001b[43m(\u001b[49m\u001b[43mcand_idx\u001b[49m\u001b[43m,\u001b[49m\u001b[43m \u001b[49m\u001b[43mparameters\u001b[49m\u001b[43m)\u001b[49m\u001b[43m,\u001b[49m\u001b[43m \u001b[49m\u001b[43m(\u001b[49m\u001b[43msplit_idx\u001b[49m\u001b[43m,\u001b[49m\u001b[43m \u001b[49m\u001b[43m(\u001b[49m\u001b[43mtrain\u001b[49m\u001b[43m,\u001b[49m\u001b[43m \u001b[49m\u001b[43mtest\u001b[49m\u001b[43m)\u001b[49m\u001b[43m)\u001b[49m\u001b[43m \u001b[49m\u001b[38;5;129;43;01min\u001b[39;49;00m\u001b[43m \u001b[49m\u001b[43mproduct\u001b[49m\u001b[43m(\u001b[49m\n\u001b[1;32m    978\u001b[0m \u001b[43m        \u001b[49m\u001b[38;5;28;43menumerate\u001b[39;49m\u001b[43m(\u001b[49m\u001b[43mcandidate_params\u001b[49m\u001b[43m)\u001b[49m\u001b[43m,\u001b[49m\n\u001b[1;32m    979\u001b[0m \u001b[43m        \u001b[49m\u001b[38;5;28;43menumerate\u001b[39;49m\u001b[43m(\u001b[49m\u001b[43mcv\u001b[49m\u001b[38;5;241;43m.\u001b[39;49m\u001b[43msplit\u001b[49m\u001b[43m(\u001b[49m\u001b[43mX\u001b[49m\u001b[43m,\u001b[49m\u001b[43m \u001b[49m\u001b[43my\u001b[49m\u001b[43m,\u001b[49m\u001b[43m \u001b[49m\u001b[38;5;241;43m*\u001b[39;49m\u001b[38;5;241;43m*\u001b[39;49m\u001b[43mrouted_params\u001b[49m\u001b[38;5;241;43m.\u001b[39;49m\u001b[43msplitter\u001b[49m\u001b[38;5;241;43m.\u001b[39;49m\u001b[43msplit\u001b[49m\u001b[43m)\u001b[49m\u001b[43m)\u001b[49m\u001b[43m,\u001b[49m\n\u001b[1;32m    980\u001b[0m \u001b[43m    \u001b[49m\u001b[43m)\u001b[49m\n\u001b[1;32m    981\u001b[0m \u001b[43m\u001b[49m\u001b[43m)\u001b[49m\n\u001b[1;32m    983\u001b[0m \u001b[38;5;28;01mif\u001b[39;00m \u001b[38;5;28mlen\u001b[39m(out) \u001b[38;5;241m<\u001b[39m \u001b[38;5;241m1\u001b[39m:\n\u001b[1;32m    984\u001b[0m     \u001b[38;5;28;01mraise\u001b[39;00m \u001b[38;5;167;01mValueError\u001b[39;00m(\n\u001b[1;32m    985\u001b[0m         \u001b[38;5;124m\"\u001b[39m\u001b[38;5;124mNo fits were performed. \u001b[39m\u001b[38;5;124m\"\u001b[39m\n\u001b[1;32m    986\u001b[0m         \u001b[38;5;124m\"\u001b[39m\u001b[38;5;124mWas the CV iterator empty? \u001b[39m\u001b[38;5;124m\"\u001b[39m\n\u001b[1;32m    987\u001b[0m         \u001b[38;5;124m\"\u001b[39m\u001b[38;5;124mWere there no candidates?\u001b[39m\u001b[38;5;124m\"\u001b[39m\n\u001b[1;32m    988\u001b[0m     )\n",
      "File \u001b[0;32m~/Documents/BU/F24/cs506/.venv/lib/python3.12/site-packages/sklearn/utils/parallel.py:74\u001b[0m, in \u001b[0;36mParallel.__call__\u001b[0;34m(self, iterable)\u001b[0m\n\u001b[1;32m     69\u001b[0m config \u001b[38;5;241m=\u001b[39m get_config()\n\u001b[1;32m     70\u001b[0m iterable_with_config \u001b[38;5;241m=\u001b[39m (\n\u001b[1;32m     71\u001b[0m     (_with_config(delayed_func, config), args, kwargs)\n\u001b[1;32m     72\u001b[0m     \u001b[38;5;28;01mfor\u001b[39;00m delayed_func, args, kwargs \u001b[38;5;129;01min\u001b[39;00m iterable\n\u001b[1;32m     73\u001b[0m )\n\u001b[0;32m---> 74\u001b[0m \u001b[38;5;28;01mreturn\u001b[39;00m \u001b[38;5;28;43msuper\u001b[39;49m\u001b[43m(\u001b[49m\u001b[43m)\u001b[49m\u001b[38;5;241;43m.\u001b[39;49m\u001b[38;5;21;43m__call__\u001b[39;49m\u001b[43m(\u001b[49m\u001b[43miterable_with_config\u001b[49m\u001b[43m)\u001b[49m\n",
      "File \u001b[0;32m~/Documents/BU/F24/cs506/.venv/lib/python3.12/site-packages/joblib/parallel.py:2007\u001b[0m, in \u001b[0;36mParallel.__call__\u001b[0;34m(self, iterable)\u001b[0m\n\u001b[1;32m   2001\u001b[0m \u001b[38;5;66;03m# The first item from the output is blank, but it makes the interpreter\u001b[39;00m\n\u001b[1;32m   2002\u001b[0m \u001b[38;5;66;03m# progress until it enters the Try/Except block of the generator and\u001b[39;00m\n\u001b[1;32m   2003\u001b[0m \u001b[38;5;66;03m# reaches the first `yield` statement. This starts the asynchronous\u001b[39;00m\n\u001b[1;32m   2004\u001b[0m \u001b[38;5;66;03m# dispatch of the tasks to the workers.\u001b[39;00m\n\u001b[1;32m   2005\u001b[0m \u001b[38;5;28mnext\u001b[39m(output)\n\u001b[0;32m-> 2007\u001b[0m \u001b[38;5;28;01mreturn\u001b[39;00m output \u001b[38;5;28;01mif\u001b[39;00m \u001b[38;5;28mself\u001b[39m\u001b[38;5;241m.\u001b[39mreturn_generator \u001b[38;5;28;01melse\u001b[39;00m \u001b[38;5;28;43mlist\u001b[39;49m\u001b[43m(\u001b[49m\u001b[43moutput\u001b[49m\u001b[43m)\u001b[49m\n",
      "File \u001b[0;32m~/Documents/BU/F24/cs506/.venv/lib/python3.12/site-packages/joblib/parallel.py:1650\u001b[0m, in \u001b[0;36mParallel._get_outputs\u001b[0;34m(self, iterator, pre_dispatch)\u001b[0m\n\u001b[1;32m   1647\u001b[0m     \u001b[38;5;28;01myield\u001b[39;00m\n\u001b[1;32m   1649\u001b[0m     \u001b[38;5;28;01mwith\u001b[39;00m \u001b[38;5;28mself\u001b[39m\u001b[38;5;241m.\u001b[39m_backend\u001b[38;5;241m.\u001b[39mretrieval_context():\n\u001b[0;32m-> 1650\u001b[0m         \u001b[38;5;28;01myield from\u001b[39;00m \u001b[38;5;28mself\u001b[39m\u001b[38;5;241m.\u001b[39m_retrieve()\n\u001b[1;32m   1652\u001b[0m \u001b[38;5;28;01mexcept\u001b[39;00m \u001b[38;5;167;01mGeneratorExit\u001b[39;00m:\n\u001b[1;32m   1653\u001b[0m     \u001b[38;5;66;03m# The generator has been garbage collected before being fully\u001b[39;00m\n\u001b[1;32m   1654\u001b[0m     \u001b[38;5;66;03m# consumed. This aborts the remaining tasks if possible and warn\u001b[39;00m\n\u001b[1;32m   1655\u001b[0m     \u001b[38;5;66;03m# the user if necessary.\u001b[39;00m\n\u001b[1;32m   1656\u001b[0m     \u001b[38;5;28mself\u001b[39m\u001b[38;5;241m.\u001b[39m_exception \u001b[38;5;241m=\u001b[39m \u001b[38;5;28;01mTrue\u001b[39;00m\n",
      "File \u001b[0;32m~/Documents/BU/F24/cs506/.venv/lib/python3.12/site-packages/joblib/parallel.py:1762\u001b[0m, in \u001b[0;36mParallel._retrieve\u001b[0;34m(self)\u001b[0m\n\u001b[1;32m   1757\u001b[0m \u001b[38;5;66;03m# If the next job is not ready for retrieval yet, we just wait for\u001b[39;00m\n\u001b[1;32m   1758\u001b[0m \u001b[38;5;66;03m# async callbacks to progress.\u001b[39;00m\n\u001b[1;32m   1759\u001b[0m \u001b[38;5;28;01mif\u001b[39;00m ((\u001b[38;5;28mlen\u001b[39m(\u001b[38;5;28mself\u001b[39m\u001b[38;5;241m.\u001b[39m_jobs) \u001b[38;5;241m==\u001b[39m \u001b[38;5;241m0\u001b[39m) \u001b[38;5;129;01mor\u001b[39;00m\n\u001b[1;32m   1760\u001b[0m     (\u001b[38;5;28mself\u001b[39m\u001b[38;5;241m.\u001b[39m_jobs[\u001b[38;5;241m0\u001b[39m]\u001b[38;5;241m.\u001b[39mget_status(\n\u001b[1;32m   1761\u001b[0m         timeout\u001b[38;5;241m=\u001b[39m\u001b[38;5;28mself\u001b[39m\u001b[38;5;241m.\u001b[39mtimeout) \u001b[38;5;241m==\u001b[39m TASK_PENDING)):\n\u001b[0;32m-> 1762\u001b[0m     \u001b[43mtime\u001b[49m\u001b[38;5;241;43m.\u001b[39;49m\u001b[43msleep\u001b[49m\u001b[43m(\u001b[49m\u001b[38;5;241;43m0.01\u001b[39;49m\u001b[43m)\u001b[49m\n\u001b[1;32m   1763\u001b[0m     \u001b[38;5;28;01mcontinue\u001b[39;00m\n\u001b[1;32m   1765\u001b[0m \u001b[38;5;66;03m# We need to be careful: the job list can be filling up as\u001b[39;00m\n\u001b[1;32m   1766\u001b[0m \u001b[38;5;66;03m# we empty it and Python list are not thread-safe by\u001b[39;00m\n\u001b[1;32m   1767\u001b[0m \u001b[38;5;66;03m# default hence the use of the lock\u001b[39;00m\n",
      "\u001b[0;31mKeyboardInterrupt\u001b[0m: "
     ]
    }
   ],
   "source": [
    "# Learn the model\n",
    "# Initialize the Gradient Boosting model\n",
    "# model = GradientBoostingClassifier(n_estimators=100, learning_rate=0.1, max_depth=3, random_state=42)\n",
    "\n",
    "# # Fit the model\n",
    "# model.fit(X_train_select, Y_train)\n",
    "\n",
    "# # Predict the score using the model\n",
    "# Y_test_predictions = model.predict(X_test_select)\n",
    "\n",
    "# Define parameter grid for tuning\n",
    "param_grid = {\n",
    "    'n_estimators': [50, 100],\n",
    "    'learning_rate': [0.1],\n",
    "    'max_depth': [3, 5]\n",
    "}\n",
    "\n",
    "# Select a small subset of the training data was taking too long\n",
    "X_train_small = X_train_select.sample(frac=0.1, random_state=42)  # 10% of the data\n",
    "Y_train_small = Y_train.loc[X_train_small.index]\n",
    "\n",
    "# Initialize GridSearchCV with GradientBoostingClassifier\n",
    "grid_search = GridSearchCV(GradientBoostingClassifier(random_state=42), param_grid, scoring='accuracy', cv=3, n_jobs=-1, verbose=3)\n",
    "\n",
    "# Fit grid search on training data\n",
    "grid_search.fit(X_train_small, Y_train_small)\n",
    "\n",
    "# Retrieve the best model\n",
    "best_model = grid_search.best_estimator_\n",
    "print(\"Best Parameters:\", grid_search.best_params_)\n",
    "\n",
    "Y_test_predictions = best_model.predict(X_test_select)"
   ]
  },
  {
   "cell_type": "code",
   "execution_count": 30,
   "metadata": {},
   "outputs": [
    {
     "name": "stdout",
     "output_type": "stream",
     "text": [
      "Fitting 3 folds for each of 20 candidates, totalling 60 fits\n",
      "[CV 2/3] END learning_rate=0.0575, max_depth=4, min_samples_split=5, n_estimators=100, subsample=0.6;, score=0.554 total time=  29.9s\n",
      "[CV 1/3] END learning_rate=0.0575, max_depth=4, min_samples_split=5, n_estimators=100, subsample=0.6;, score=0.552 total time=  30.2s\n",
      "[CV 1/3] END learning_rate=0.15250000000000002, max_depth=4, min_samples_split=5, n_estimators=50, subsample=0.6;, score=0.552 total time=  15.2s\n",
      "[CV 3/3] END learning_rate=0.0575, max_depth=4, min_samples_split=5, n_estimators=100, subsample=0.6;, score=0.556 total time=  30.8s\n",
      "[CV 2/3] END learning_rate=0.15250000000000002, max_depth=4, min_samples_split=5, n_estimators=50, subsample=0.6;, score=0.555 total time=  15.5s\n",
      "[CV 3/3] END learning_rate=0.15250000000000002, max_depth=4, min_samples_split=5, n_estimators=50, subsample=0.6;, score=0.555 total time=  16.1s\n",
      "[CV 1/3] END learning_rate=0.01, max_depth=4, min_samples_split=10, n_estimators=200, subsample=0.8;, score=0.550 total time= 1.3min\n",
      "[CV 2/3] END learning_rate=0.01, max_depth=4, min_samples_split=10, n_estimators=200, subsample=0.8;, score=0.552 total time= 1.3min\n",
      "[CV 3/3] END learning_rate=0.01, max_depth=4, min_samples_split=10, n_estimators=200, subsample=0.8;, score=0.550 total time= 1.3min\n",
      "[CV 1/3] END learning_rate=0.01, max_depth=4, min_samples_split=2, n_estimators=100, subsample=0.6;, score=0.545 total time=  32.2s\n",
      "[CV 2/3] END learning_rate=0.01, max_depth=4, min_samples_split=2, n_estimators=100, subsample=0.6;, score=0.546 total time=  32.3s\n",
      "[CV 3/3] END learning_rate=0.01, max_depth=4, min_samples_split=2, n_estimators=100, subsample=0.6;, score=0.546 total time=  32.4s\n",
      "[CV 1/3] END learning_rate=0.2, max_depth=5, min_samples_split=10, n_estimators=200, subsample=1.0;, score=0.548 total time= 2.0min\n",
      "[CV 3/3] END learning_rate=0.2, max_depth=5, min_samples_split=10, n_estimators=200, subsample=1.0;, score=0.551 total time= 2.0min\n",
      "[CV 2/3] END learning_rate=0.2, max_depth=5, min_samples_split=10, n_estimators=200, subsample=1.0;, score=0.548 total time= 2.0min\n",
      "[CV 1/3] END learning_rate=0.2, max_depth=3, min_samples_split=2, n_estimators=200, subsample=1.0;, score=0.553 total time= 1.3min\n",
      "[CV 2/3] END learning_rate=0.2, max_depth=3, min_samples_split=2, n_estimators=200, subsample=1.0;, score=0.555 total time= 1.3min\n",
      "[CV 2/3] END learning_rate=0.01, max_depth=6, min_samples_split=2, n_estimators=50, subsample=1.0;, score=0.535 total time=  37.6s\n",
      "[CV 1/3] END learning_rate=0.01, max_depth=6, min_samples_split=2, n_estimators=50, subsample=1.0;, score=0.534 total time=  37.9s\n",
      "[CV 3/3] END learning_rate=0.2, max_depth=3, min_samples_split=2, n_estimators=200, subsample=1.0;, score=0.555 total time= 1.3min\n",
      "[CV 1/3] END learning_rate=0.01, max_depth=5, min_samples_split=2, n_estimators=50, subsample=0.6;, score=0.534 total time=  20.6s\n",
      "[CV 2/3] END learning_rate=0.01, max_depth=5, min_samples_split=2, n_estimators=50, subsample=0.6;, score=0.534 total time=  20.4s\n",
      "[CV 3/3] END learning_rate=0.01, max_depth=5, min_samples_split=2, n_estimators=50, subsample=0.6;, score=0.534 total time=  20.4s\n",
      "[CV 3/3] END learning_rate=0.01, max_depth=6, min_samples_split=2, n_estimators=50, subsample=1.0;, score=0.535 total time=  38.5s\n",
      "[CV 1/3] END learning_rate=0.01, max_depth=5, min_samples_split=5, n_estimators=50, subsample=1.0;, score=0.534 total time=  31.9s\n",
      "[CV 2/3] END learning_rate=0.01, max_depth=5, min_samples_split=5, n_estimators=50, subsample=1.0;, score=0.534 total time=  32.1s\n",
      "[CV 3/3] END learning_rate=0.01, max_depth=5, min_samples_split=5, n_estimators=50, subsample=1.0;, score=0.534 total time=  31.9s\n",
      "[CV 1/3] END learning_rate=0.0575, max_depth=6, min_samples_split=2, n_estimators=200, subsample=1.0;, score=0.552 total time= 2.5min\n",
      "[CV 2/3] END learning_rate=0.0575, max_depth=6, min_samples_split=2, n_estimators=200, subsample=1.0;, score=0.553 total time= 2.5min\n",
      "[CV 3/3] END learning_rate=0.0575, max_depth=6, min_samples_split=2, n_estimators=200, subsample=1.0;, score=0.556 total time= 2.5min\n",
      "[CV 1/3] END learning_rate=0.01, max_depth=6, min_samples_split=10, n_estimators=150, subsample=0.8;, score=0.550 total time= 1.6min\n",
      "[CV 2/3] END learning_rate=0.01, max_depth=6, min_samples_split=10, n_estimators=150, subsample=0.8;, score=0.552 total time= 1.6min\n",
      "[CV 3/3] END learning_rate=0.01, max_depth=6, min_samples_split=10, n_estimators=150, subsample=0.8;, score=0.552 total time= 1.6min\n",
      "[CV 1/3] END learning_rate=0.105, max_depth=7, min_samples_split=10, n_estimators=100, subsample=1.0;, score=0.550 total time= 1.5min\n",
      "[CV 2/3] END learning_rate=0.105, max_depth=7, min_samples_split=10, n_estimators=100, subsample=1.0;, score=0.550 total time= 1.5min\n",
      "[CV 1/3] END learning_rate=0.01, max_depth=6, min_samples_split=5, n_estimators=50, subsample=0.6;, score=0.535 total time=  26.4s\n",
      "[CV 2/3] END learning_rate=0.01, max_depth=6, min_samples_split=5, n_estimators=50, subsample=0.6;, score=0.535 total time= 1.9min\n",
      "[CV 3/3] END learning_rate=0.01, max_depth=6, min_samples_split=5, n_estimators=50, subsample=0.6;, score=0.535 total time= 1.9min\n",
      "[CV 1/3] END learning_rate=0.2, max_depth=5, min_samples_split=2, n_estimators=200, subsample=0.6;, score=0.539 total time= 9.6min\n",
      "[CV 1/3] END learning_rate=0.15250000000000002, max_depth=4, min_samples_split=5, n_estimators=50, subsample=1.0;, score=0.552 total time= 7.2min\n",
      "[CV 3/3] END learning_rate=0.105, max_depth=7, min_samples_split=10, n_estimators=100, subsample=1.0;, score=0.555 total time=11.3min\n",
      "[CV 2/3] END learning_rate=0.2, max_depth=5, min_samples_split=2, n_estimators=200, subsample=0.6;, score=0.543 total time=11.2min\n",
      "[CV 3/3] END learning_rate=0.2, max_depth=5, min_samples_split=2, n_estimators=200, subsample=0.6;, score=0.542 total time=11.2min\n",
      "[CV 1/3] END learning_rate=0.15250000000000002, max_depth=7, min_samples_split=10, n_estimators=100, subsample=0.6;, score=0.543 total time=10.8min\n",
      "[CV 2/3] END learning_rate=0.15250000000000002, max_depth=7, min_samples_split=10, n_estimators=100, subsample=0.6;, score=0.544 total time=11.6min\n",
      "[CV 2/3] END learning_rate=0.15250000000000002, max_depth=4, min_samples_split=5, n_estimators=50, subsample=1.0;, score=0.554 total time= 2.8min\n",
      "[CV 3/3] END learning_rate=0.15250000000000002, max_depth=4, min_samples_split=5, n_estimators=50, subsample=1.0;, score=0.556 total time= 2.8min\n",
      "[CV 3/3] END learning_rate=0.15250000000000002, max_depth=7, min_samples_split=10, n_estimators=100, subsample=0.6;, score=0.546 total time=10.1min\n",
      "[CV 1/3] END learning_rate=0.01, max_depth=7, min_samples_split=10, n_estimators=50, subsample=0.6;, score=0.537 total time= 1.4min\n",
      "[CV 1/3] END learning_rate=0.105, max_depth=4, min_samples_split=10, n_estimators=50, subsample=1.0;, score=0.553 total time= 1.3min\n",
      "[CV 2/3] END learning_rate=0.01, max_depth=7, min_samples_split=10, n_estimators=50, subsample=0.6;, score=0.536 total time= 1.4min\n",
      "[CV 3/3] END learning_rate=0.01, max_depth=7, min_samples_split=10, n_estimators=50, subsample=0.6;, score=0.536 total time= 1.4min\n",
      "[CV 2/3] END learning_rate=0.105, max_depth=4, min_samples_split=10, n_estimators=50, subsample=1.0;, score=0.555 total time= 5.8min\n",
      "[CV 3/3] END learning_rate=0.105, max_depth=4, min_samples_split=10, n_estimators=50, subsample=1.0;, score=0.556 total time= 5.9min\n",
      "[CV 1/3] END learning_rate=0.105, max_depth=5, min_samples_split=5, n_estimators=100, subsample=0.6;, score=0.551 total time= 8.0min\n",
      "[CV 2/3] END learning_rate=0.105, max_depth=5, min_samples_split=5, n_estimators=100, subsample=0.6;, score=0.554 total time= 8.0min\n",
      "[CV 3/3] END learning_rate=0.105, max_depth=5, min_samples_split=5, n_estimators=100, subsample=0.6;, score=0.555 total time= 7.9min\n",
      "[CV 1/3] END learning_rate=0.01, max_depth=4, min_samples_split=10, n_estimators=150, subsample=0.8;, score=0.548 total time= 8.1min\n",
      "[CV 2/3] END learning_rate=0.01, max_depth=4, min_samples_split=10, n_estimators=150, subsample=0.8;, score=0.549 total time= 8.1min\n",
      "[CV 3/3] END learning_rate=0.01, max_depth=4, min_samples_split=10, n_estimators=150, subsample=0.8;, score=0.549 total time= 8.1min\n",
      "Best Parameters: {'subsample': 1.0, 'n_estimators': 200, 'min_samples_split': 2, 'max_depth': 3, 'learning_rate': np.float64(0.2)}\n"
     ]
    }
   ],
   "source": [
    "# Define parameter distributions\n",
    "param_distributions = {\n",
    "    'n_estimators': [50, 100, 150, 200],        # Try different values for the number of trees\n",
    "    'learning_rate': np.linspace(0.01, 0.2, 5), # Range for learning rates (5 values between 0.01 and 0.2)\n",
    "    'max_depth': [3, 4, 5, 6, 7],               # Different max depth values\n",
    "    'subsample': [0.6, 0.8, 1.0],               # Include subsample parameter to control overfitting\n",
    "    'min_samples_split': [2, 5, 10]             # Minimum number of samples required to split a node\n",
    "}\n",
    "\n",
    "# Initialize RandomizedSearchCV with GradientBoostingClassifier\n",
    "random_search = RandomizedSearchCV(\n",
    "    estimator=GradientBoostingClassifier(random_state=42),\n",
    "    param_distributions=param_distributions,\n",
    "    n_iter=20,                        # Number of parameter settings to sample\n",
    "    scoring='accuracy',                # Scoring metric for evaluation\n",
    "    cv=3,                              # 3-fold cross-validation\n",
    "    n_jobs=-1,                         # Use all available cores\n",
    "    verbose=3,                         # Print progress\n",
    "    random_state=42                    # Set random state for reproducibility\n",
    ")\n",
    "\n",
    "# Select a smaller subset to reduce runtime\n",
    "X_train_small = X_train_select.sample(frac=0.1, random_state=42)  # 10% of the data\n",
    "Y_train_small = Y_train.loc[X_train_small.index]\n",
    "\n",
    "# Fit RandomizedSearchCV\n",
    "random_search.fit(X_train_small, Y_train_small)\n",
    "\n",
    "# Retrieve the best model and parameters\n",
    "best_model = random_search.best_estimator_\n",
    "print(\"Best Parameters:\", random_search.best_params_)\n",
    "\n",
    "# Use the best model to make predictions\n",
    "Y_test_predictions = best_model.predict(X_test_select)"
   ]
  },
  {
   "cell_type": "markdown",
   "metadata": {},
   "source": [
    "best parameters found from above are\n",
    "\n",
    "        subsample: 1.0\n",
    "\n",
    "        n_estimators: 200\n",
    "\n",
    "        min_samples_split: 2\n",
    "\n",
    "        max_depth: 3\n",
    "\n",
    "        learning_rate: 0.2\n",
    "\n",
    "based on cross-validated accuracy scores for each combination tested."
   ]
  },
  {
   "cell_type": "code",
   "execution_count": 32,
   "metadata": {},
   "outputs": [],
   "source": [
    "best_params = random_search.best_params_\n",
    "final_model = GradientBoostingClassifier(\n",
    "    n_estimators=best_params['n_estimators'],\n",
    "    learning_rate=best_params['learning_rate'],\n",
    "    max_depth=best_params['max_depth'],\n",
    "    subsample=1.0,\n",
    "    min_samples_split=2,\n",
    "    random_state=42\n",
    ")\n",
    "\n",
    "# Fit the model on the full training data\n",
    "final_model.fit(X_train_select, Y_train)\n",
    "\n",
    "# Predict on the test data\n",
    "Y_test_predictions = final_model.predict(X_test_select)"
   ]
  },
  {
   "cell_type": "markdown",
   "metadata": {},
   "source": [
    "# Model Evaluation"
   ]
  },
  {
   "cell_type": "code",
   "execution_count": 33,
   "metadata": {},
   "outputs": [
    {
     "name": "stdout",
     "output_type": "stream",
     "text": [
      "Accuracy on testing set =  0.5593586401533921\n"
     ]
    },
    {
     "data": {
      "image/png": "[encoded data removed]",
      "text/plain": [
       "<Figure size 640x480 with 2 Axes>"
      ]
     },
     "metadata": {},
     "output_type": "display_data"
    },
    {
     "name": "stdout",
     "output_type": "stream",
     "text": [
      "Classification Report:\n",
      "               precision    recall  f1-score   support\n",
      "\n",
      "         1.0       0.45      0.46      0.45     22649\n",
      "         2.0       0.25      0.04      0.07     22182\n",
      "         3.0       0.28      0.05      0.09     43979\n",
      "         4.0       0.33      0.05      0.09     83939\n",
      "         5.0       0.59      0.95      0.73    198587\n",
      "\n",
      "    accuracy                           0.56    371336\n",
      "   macro avg       0.38      0.31      0.29    371336\n",
      "weighted avg       0.46      0.56      0.45    371336\n",
      "\n"
     ]
    }
   ],
   "source": [
    "# Evaluate your model on the testing set\n",
    "print(\"Accuracy on testing set = \", accuracy_score(Y_test, Y_test_predictions))\n",
    "# previous accuracy was 0.5566764332033522\n",
    "\n",
    "# Plot a confusion matrix\n",
    "cm = confusion_matrix(Y_test, Y_test_predictions, normalize='true')\n",
    "sns.heatmap(cm, annot=True)\n",
    "plt.title('Confusion matrix of the classifier')\n",
    "plt.xlabel('Predicted')\n",
    "plt.ylabel('True')\n",
    "plt.show()\n",
    "\n",
    "report = classification_report(Y_test, Y_test_predictions)\n",
    "print(\"Classification Report:\\n\", report)"
   ]
  },
  {
   "cell_type": "markdown",
   "metadata": {},
   "source": [
    "# Create submission file"
   ]
  },
  {
   "cell_type": "code",
   "execution_count": 34,
   "metadata": {},
   "outputs": [],
   "source": [
    "# Create the submission file\n",
    "X_submission['Score'] = final_model.predict(X_submission_select)\n",
    "submission = X_submission[['Id', 'Score']]\n",
    "submission.to_csv(\"./data/submission.csv\", index=False)"
   ]
  },
  {
   "cell_type": "code",
   "execution_count": null,
   "metadata": {},
   "outputs": [],
   "source": []
  }
 ],
 "metadata": {
  "kernelspec": {
   "display_name": ".venv",
   "language": "python",
   "name": "python3"
  },
  "language_info": {
   "codemirror_mode": {
    "name": "ipython",
    "version": 3
   },
   "file_extension": ".py",
   "mimetype": "text/x-python",
   "name": "python",
   "nbconvert_exporter": "python",
   "pygments_lexer": "ipython3",
   "version": "3.12.6"
  }
 },
 "nbformat": 4,
 "nbformat_minor": 2
}
